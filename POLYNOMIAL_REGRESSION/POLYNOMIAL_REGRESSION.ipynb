{
 "cells": [
  {
   "cell_type": "markdown",
   "id": "bc6a23b4",
   "metadata": {},
   "source": [
    "# POLYNOMIAL REGRESSION\n",
    "**Suárez Pérez Juan Pablo**"
   ]
  },
  {
   "cell_type": "code",
   "execution_count": 1,
   "id": "d5a5f8b5",
   "metadata": {},
   "outputs": [],
   "source": [
    "# Import the libraries needed.\n",
    "import numpy as np\n",
    "import matplotlib.pyplot as plt\n",
    "from sklearn.linear_model import LinearRegression\n",
    "from sklearn.metrics import mean_squared_error, r2_score\n",
    "from sklearn.preprocessing import PolynomialFeatures\n",
    "import operator\n",
    "import pandas as pd\n",
    "from  sklearn import preprocessing\n",
    "from sklearn.linear_model import SGDRegressor"
   ]
  },
  {
   "cell_type": "code",
   "execution_count": 2,
   "id": "a2b61d39",
   "metadata": {},
   "outputs": [],
   "source": [
    "# List of mse and r2.\n",
    "mse_list = list()\n",
    "r2_list = list()"
   ]
  },
  {
   "cell_type": "code",
   "execution_count": 3,
   "id": "6c557a7e",
   "metadata": {},
   "outputs": [
    {
     "name": "stdout",
     "output_type": "stream",
     "text": [
      "x[-3.29215704  0.79952837 -0.93621395 -4.7226796  -3.60267397  4.93183364\n",
      " -0.85026525  2.45407162  2.30965656  0.76820449  1.56786929 -2.36282052\n",
      " -0.28311318  1.63497495  0.6684103   0.99897702 -2.48223722  2.61547479\n",
      "  1.0607969   4.56228722]\n",
      "y[ -53.46841187   -1.26255958   -3.50619264 -107.22320039  -49.13195018\n",
      "    8.90122353   -5.46624176   -5.76263165   -0.60058568    1.2226779\n",
      "   -3.95663744  -21.98989452   -6.11812275  -10.46843964   -4.11955719\n",
      "   -3.02941914  -21.76152272   -1.51295226   -4.75491157    6.50723268]\n"
     ]
    },
    {
     "data": {
      "image/png": "[encoded data removed]",
      "text/plain": [
       "<Figure size 432x288 with 1 Axes>"
      ]
     },
     "metadata": {
      "needs_background": "light"
     },
     "output_type": "display_data"
    }
   ],
   "source": [
    "# Data Generation.\n",
    "np.random.seed(0)\n",
    "x = 2 - 3 * np.random.normal(0, 1, 20)\n",
    "y = x - 2 * (x ** 2) + 0.5 * (x ** 3) + np.random.normal(-3, 3, 20)  \n",
    "print ('x{}\\ny{}'.format(x,y))\n",
    "plt.scatter(x, y, s = 10)\n",
    "plt.show()"
   ]
  },
  {
   "cell_type": "code",
   "execution_count": 4,
   "id": "373ac17d",
   "metadata": {},
   "outputs": [
    {
     "name": "stdout",
     "output_type": "stream",
     "text": [
      "x[[-3.29215704]\n",
      " [ 0.79952837]\n",
      " [-0.93621395]\n",
      " [-4.7226796 ]\n",
      " [-3.60267397]\n",
      " [ 4.93183364]\n",
      " [-0.85026525]\n",
      " [ 2.45407162]\n",
      " [ 2.30965656]\n",
      " [ 0.76820449]\n",
      " [ 1.56786929]\n",
      " [-2.36282052]\n",
      " [-0.28311318]\n",
      " [ 1.63497495]\n",
      " [ 0.6684103 ]\n",
      " [ 0.99897702]\n",
      " [-2.48223722]\n",
      " [ 2.61547479]\n",
      " [ 1.0607969 ]\n",
      " [ 4.56228722]]\n",
      "y[ -53.46841187   -1.26255958   -3.50619264 -107.22320039  -49.13195018\n",
      "    8.90122353   -5.46624176   -5.76263165   -0.60058568    1.2226779\n",
      "   -3.95663744  -21.98989452   -6.11812275  -10.46843964   -4.11955719\n",
      "   -3.02941914  -21.76152272   -1.51295226   -4.75491157    6.50723268]\n"
     ]
    }
   ],
   "source": [
    "# Add a new dimension to x.\n",
    "x = x[:, np.newaxis]\n",
    "print ('x{}\\ny{}'.format(x,y))"
   ]
  },
  {
   "cell_type": "markdown",
   "id": "ca3469dc",
   "metadata": {},
   "source": [
    "## Linear Regression "
   ]
  },
  {
   "cell_type": "code",
   "execution_count": 5,
   "id": "45d9a5e9",
   "metadata": {},
   "outputs": [
    {
     "data": {
      "image/png": "[encoded data removed]",
      "text/plain": [
       "<Figure size 432x288 with 1 Axes>"
      ]
     },
     "metadata": {
      "needs_background": "light"
     },
     "output_type": "display_data"
    },
    {
     "name": "stdout",
     "output_type": "stream",
     "text": [
      "           x  Predicted\n",
      "0  -3.292157 -44.096293\n",
      "1   0.799528 -10.166452\n",
      "2  -0.936214 -24.559900\n",
      "3  -4.722680 -55.958740\n",
      "4  -3.602674 -46.671219\n",
      "5   4.931834  24.100225\n",
      "6  -0.850265 -23.847180\n",
      "7   2.454072   3.553662\n",
      "8   2.309657   2.356117\n",
      "9   0.768204 -10.426201\n",
      "10  1.567869  -3.795071\n",
      "11 -2.362821 -36.389874\n",
      "12 -0.283113 -19.144135\n",
      "13  1.634975  -3.238605\n",
      "14  0.668410 -11.253733\n",
      "15  0.998977  -8.512546\n",
      "16 -2.482237 -37.380124\n",
      "17  2.615475   4.892080\n",
      "18  1.060797  -7.999912\n",
      "19  4.562287  21.035803\n"
     ]
    }
   ],
   "source": [
    "# Linear Regression.\n",
    "model = LinearRegression()\n",
    "model.fit(x, y)\n",
    "y_pred = model.predict(x)\n",
    "plt.scatter(x, y, color = 'b')\n",
    "plt.plot(x, y_pred, color = 'r')\n",
    "plt.show()\n",
    "print(pd.DataFrame({'x': np.reshape(x,(1,-1))[0], 'Predicted': y_pred}))"
   ]
  },
  {
   "cell_type": "code",
   "execution_count": 6,
   "id": "b1ab5792",
   "metadata": {},
   "outputs": [
    {
     "name": "stdout",
     "output_type": "stream",
     "text": [
      "\n",
      "Linear Regression\n",
      " MSE: 253.07217948430372\n",
      " r2: 0.6386750054827146 \n",
      "\n"
     ]
    }
   ],
   "source": [
    "# MSE and r2.\n",
    "mse = mean_squared_error(y, y_pred)\n",
    "r2 = r2_score(y, y_pred)\n",
    "print ('\\nLinear Regression\\n MSE: {}\\n r2: {}'.format(mse, r2), '\\n')\n",
    "mse_list.append(mse)\n",
    "r2_list.append(r2)"
   ]
  },
  {
   "cell_type": "markdown",
   "id": "5230d162",
   "metadata": {},
   "source": [
    "## Polynomial Regression with Polynomial Features (Degree 2)"
   ]
  },
  {
   "cell_type": "code",
   "execution_count": 7,
   "id": "cc7bc61f",
   "metadata": {},
   "outputs": [],
   "source": [
    "# Conversetion of variables.\n",
    "polynomial_features= PolynomialFeatures(degree = 2)\n",
    "x_poly = polynomial_features.fit_transform(x)"
   ]
  },
  {
   "cell_type": "code",
   "execution_count": 8,
   "id": "4f162b7f",
   "metadata": {},
   "outputs": [],
   "source": [
    "# Polynomial Regression.\n",
    "model_poly = LinearRegression()\n",
    "model_poly.fit(x_poly, y)\n",
    "y_poly_pred = model_poly.predict(x_poly)"
   ]
  },
  {
   "cell_type": "code",
   "execution_count": 9,
   "id": "267ffd3a",
   "metadata": {},
   "outputs": [
    {
     "name": "stdout",
     "output_type": "stream",
     "text": [
      "\n",
      "Polynomial Regression\n",
      " MSE: 102.42325465734493\n",
      " r2: 0.8537647164420812 \n",
      "\n"
     ]
    }
   ],
   "source": [
    "# MSE and r2.\n",
    "mse = mean_squared_error(y, y_poly_pred)\n",
    "r2 = r2_score(y, y_poly_pred)\n",
    "print ('\\nPolynomial Regression\\n MSE: {}\\n r2: {}'.format(mse, r2), '\\n')\n",
    "mse_list.append(mse)\n",
    "r2_list.append(r2)"
   ]
  },
  {
   "cell_type": "code",
   "execution_count": 10,
   "id": "305f89c8",
   "metadata": {},
   "outputs": [],
   "source": [
    "# Settings for sorting.\n",
    "sort_axis = operator.itemgetter(0)\n",
    "sorted_zip = sorted(zip(x, y_poly_pred), key = sort_axis)\n",
    "x_sorted, y_poly_pred= zip(*sorted_zip)"
   ]
  },
  {
   "cell_type": "code",
   "execution_count": 11,
   "id": "f2554320",
   "metadata": {},
   "outputs": [
    {
     "data": {
      "image/png": "[encoded data removed]",
      "text/plain": [
       "<Figure size 432x288 with 1 Axes>"
      ]
     },
     "metadata": {
      "needs_background": "light"
     },
     "output_type": "display_data"
    }
   ],
   "source": [
    "plt.scatter(x, y, color = 'b')\n",
    "plt.plot(x_sorted, y_poly_pred, color = 'g')\n",
    "plt.show()"
   ]
  },
  {
   "cell_type": "markdown",
   "id": "db29b7bd",
   "metadata": {},
   "source": [
    "## Polynomial Regression with Polynomial Features (Degree 3)"
   ]
  },
  {
   "cell_type": "code",
   "execution_count": 12,
   "id": "1a9a1480",
   "metadata": {},
   "outputs": [],
   "source": [
    "# Conversetion of variables.\n",
    "polynomial_features = PolynomialFeatures(degree = 3)\n",
    "x_poly = polynomial_features.fit_transform(x)"
   ]
  },
  {
   "cell_type": "code",
   "execution_count": 13,
   "id": "ec9ff3b9",
   "metadata": {},
   "outputs": [],
   "source": [
    "# Polynomial Regression.\n",
    "model_poly = LinearRegression()\n",
    "model_poly.fit(x_poly, y)\n",
    "y_poly_pred = model_poly.predict(x_poly)"
   ]
  },
  {
   "cell_type": "code",
   "execution_count": 14,
   "id": "40d45a22",
   "metadata": {},
   "outputs": [
    {
     "name": "stdout",
     "output_type": "stream",
     "text": [
      "\n",
      "Polynomial Regression\n",
      " MSE: 11.901779012038897\n",
      " r2: 0.9830071790386679 \n",
      "\n"
     ]
    }
   ],
   "source": [
    "# MSE and r2.\n",
    "mse = mean_squared_error(y, y_poly_pred)\n",
    "r2 = r2_score(y, y_poly_pred)\n",
    "print ('\\nPolynomial Regression\\n MSE: {}\\n r2: {}'.format(mse, r2), '\\n')\n",
    "mse_list.append(mse)\n",
    "r2_list.append(r2)"
   ]
  },
  {
   "cell_type": "code",
   "execution_count": 15,
   "id": "6012b1e0",
   "metadata": {},
   "outputs": [],
   "source": [
    "# Settings for sorting.\n",
    "sort_axis = operator.itemgetter(0)\n",
    "sorted_zip = sorted(zip(x, y_poly_pred), key = sort_axis)\n",
    "x_sorted, y_poly_pred= zip(*sorted_zip)"
   ]
  },
  {
   "cell_type": "code",
   "execution_count": 16,
   "id": "b1f8e2a3",
   "metadata": {},
   "outputs": [
    {
     "data": {
      "image/png": "[encoded data removed]",
      "text/plain": [
       "<Figure size 432x288 with 1 Axes>"
      ]
     },
     "metadata": {
      "needs_background": "light"
     },
     "output_type": "display_data"
    }
   ],
   "source": [
    "plt.scatter(x, y, color = 'b')\n",
    "plt.plot(x_sorted, y_poly_pred, color = 'g')\n",
    "plt.show()"
   ]
  },
  {
   "cell_type": "markdown",
   "id": "14f153c7",
   "metadata": {},
   "source": [
    "## Polynomial Regression with Polynomial Features (Degree 3) with Standard Scaler"
   ]
  },
  {
   "cell_type": "code",
   "execution_count": 17,
   "id": "365ecd98",
   "metadata": {},
   "outputs": [],
   "source": [
    "# Standard Scaler\n",
    "x_poly_standard_scaler = preprocessing.StandardScaler().fit_transform(x_poly)"
   ]
  },
  {
   "cell_type": "code",
   "execution_count": 18,
   "id": "fb82eda7",
   "metadata": {},
   "outputs": [],
   "source": [
    "# Polynomial Regression.\n",
    "model_poly.fit(x_poly_standard_scaler, y)\n",
    "y_poly_pred = model_poly.predict(x_poly_standard_scaler)"
   ]
  },
  {
   "cell_type": "code",
   "execution_count": 19,
   "id": "416285fa",
   "metadata": {},
   "outputs": [
    {
     "name": "stdout",
     "output_type": "stream",
     "text": [
      "\n",
      "Polynomial Regression\n",
      " MSE: 11.901779012038903\n",
      " r2: 0.9830071790386679 \n",
      "\n"
     ]
    }
   ],
   "source": [
    "# MSE and r2.\n",
    "mse = mean_squared_error(y, y_poly_pred)\n",
    "r2 = r2_score(y, y_poly_pred)\n",
    "print ('\\nPolynomial Regression\\n MSE: {}\\n r2: {}'.format(mse, r2), '\\n')\n",
    "mse_list.append(mse)\n",
    "r2_list.append(r2)"
   ]
  },
  {
   "cell_type": "code",
   "execution_count": 20,
   "id": "6b37fecb",
   "metadata": {},
   "outputs": [],
   "source": [
    "# Settings for sorting.\n",
    "sort_axis = operator.itemgetter(0)\n",
    "sorted_zip = sorted(zip(x, y_poly_pred), key = sort_axis)\n",
    "x_sorted, y_poly_pred= zip(*sorted_zip)"
   ]
  },
  {
   "cell_type": "code",
   "execution_count": 21,
   "id": "258904e7",
   "metadata": {},
   "outputs": [
    {
     "data": {
      "image/png": "[encoded data removed]",
      "text/plain": [
       "<Figure size 432x288 with 1 Axes>"
      ]
     },
     "metadata": {
      "needs_background": "light"
     },
     "output_type": "display_data"
    }
   ],
   "source": [
    "plt.scatter(x, y, color = 'b')\n",
    "plt.plot(x_sorted, y_poly_pred, color = 'g')\n",
    "plt.show()"
   ]
  },
  {
   "cell_type": "markdown",
   "id": "47ad2d68",
   "metadata": {},
   "source": [
    "## Polynomial Regression with Polynomial Features (Degree 3) with Robust Scaler"
   ]
  },
  {
   "cell_type": "code",
   "execution_count": 22,
   "id": "d5fab48f",
   "metadata": {},
   "outputs": [],
   "source": [
    "# Robust Scaler\n",
    "x_poly_robust_scaler = preprocessing.RobustScaler().fit_transform(x_poly)"
   ]
  },
  {
   "cell_type": "code",
   "execution_count": 23,
   "id": "367c607c",
   "metadata": {},
   "outputs": [],
   "source": [
    "# Polynomial Regression.\n",
    "model_poly.fit(x_poly_robust_scaler, y)\n",
    "y_poly_pred = model_poly.predict(x_poly_robust_scaler)"
   ]
  },
  {
   "cell_type": "code",
   "execution_count": 24,
   "id": "4118cddc",
   "metadata": {},
   "outputs": [
    {
     "name": "stdout",
     "output_type": "stream",
     "text": [
      "\n",
      "Polynomial Regression\n",
      " MSE: 11.9017790120389\n",
      " r2: 0.9830071790386679 \n",
      "\n"
     ]
    }
   ],
   "source": [
    "# MSE and r2.\n",
    "mse = mean_squared_error(y, y_poly_pred)\n",
    "r2 = r2_score(y, y_poly_pred)\n",
    "print ('\\nPolynomial Regression\\n MSE: {}\\n r2: {}'.format(mse, r2), '\\n')\n",
    "mse_list.append(mse)\n",
    "r2_list.append(r2)"
   ]
  },
  {
   "cell_type": "code",
   "execution_count": 25,
   "id": "5bbd87cb",
   "metadata": {},
   "outputs": [],
   "source": [
    "# Settings for sorting.\n",
    "sort_axis = operator.itemgetter(0)\n",
    "sorted_zip = sorted(zip(x, y_poly_pred), key = sort_axis)\n",
    "x_sorted, y_poly_pred= zip(*sorted_zip)"
   ]
  },
  {
   "cell_type": "code",
   "execution_count": 26,
   "id": "0e6f90dd",
   "metadata": {},
   "outputs": [
    {
     "data": {
      "image/png": "[encoded data removed]",
      "text/plain": [
       "<Figure size 432x288 with 1 Axes>"
      ]
     },
     "metadata": {
      "needs_background": "light"
     },
     "output_type": "display_data"
    }
   ],
   "source": [
    "plt.scatter(x, y, color = 'b')\n",
    "plt.plot(x_sorted, y_poly_pred, color = 'g')\n",
    "plt.show()"
   ]
  },
  {
   "cell_type": "markdown",
   "id": "03e82cac",
   "metadata": {},
   "source": [
    "## Polynomial Regression with Polynomial Features (Degree 3) with Robust Scaler with Stochastics"
   ]
  },
  {
   "cell_type": "code",
   "execution_count": 27,
   "id": "8e2996e2",
   "metadata": {},
   "outputs": [],
   "source": [
    "# Conversetion of variables.\n",
    "polynomial_features= PolynomialFeatures(degree=3)\n",
    "x_poly = polynomial_features.fit_transform(x)"
   ]
  },
  {
   "cell_type": "code",
   "execution_count": 28,
   "id": "e9e7dc9b",
   "metadata": {},
   "outputs": [],
   "source": [
    "# Robust Scaler.\n",
    "x_poly_robust_scaler = preprocessing.RobustScaler().fit_transform(x_poly)"
   ]
  },
  {
   "cell_type": "code",
   "execution_count": 29,
   "id": "06fe8539",
   "metadata": {},
   "outputs": [],
   "source": [
    "# Polynomial Regression\n",
    "regr = SGDRegressor(learning_rate = 'constant', eta0 = 0.001, max_iter= 10000)\n",
    "regr.fit(x_poly_robust_scaler, y)\n",
    "y_poly_pred = regr.predict(x_poly_robust_scaler)"
   ]
  },
  {
   "cell_type": "code",
   "execution_count": 30,
   "id": "e6858272",
   "metadata": {},
   "outputs": [
    {
     "name": "stdout",
     "output_type": "stream",
     "text": [
      "\n",
      "Polynomial Regression\n",
      " MSE: 12.069312634372121\n",
      " r2: 0.9827679821214311 \n",
      "\n"
     ]
    }
   ],
   "source": [
    "# MSE and r2.\n",
    "mse = mean_squared_error(y, y_poly_pred)\n",
    "r2 = r2_score(y, y_poly_pred)\n",
    "print ('\\nPolynomial Regression\\n MSE: {}\\n r2: {}'.format(mse, r2), '\\n')\n",
    "mse_list.append(mse)\n",
    "r2_list.append(r2)"
   ]
  },
  {
   "cell_type": "code",
   "execution_count": 31,
   "id": "6c0a6530",
   "metadata": {},
   "outputs": [],
   "source": [
    "# Settings for sorting.\n",
    "sort_axis = operator.itemgetter(0)\n",
    "sorted_zip = sorted(zip(x, y_poly_pred), key = sort_axis)\n",
    "x_sorted, y_poly_pred= zip(*sorted_zip)"
   ]
  },
  {
   "cell_type": "code",
   "execution_count": 32,
   "id": "06d8ac92",
   "metadata": {},
   "outputs": [
    {
     "data": {
      "image/png": "[encoded data removed]",
      "text/plain": [
       "<Figure size 432x288 with 1 Axes>"
      ]
     },
     "metadata": {
      "needs_background": "light"
     },
     "output_type": "display_data"
    }
   ],
   "source": [
    "plt.scatter(x, y, color = 'b')\n",
    "plt.plot(x_sorted, y_poly_pred, color = 'g')\n",
    "plt.show()"
   ]
  },
  {
   "cell_type": "markdown",
   "id": "7ffc8423",
   "metadata": {},
   "source": [
    "## MSE anda R2"
   ]
  },
  {
   "cell_type": "code",
   "execution_count": 33,
   "id": "56d8cd56",
   "metadata": {},
   "outputs": [
    {
     "name": "stdout",
     "output_type": "stream",
     "text": [
      "                                                           mse        r2\n",
      "Regresión lineal                                    253.072179  0.638675\n",
      "Regresión polinomial grado 2                        102.423255  0.853765\n",
      "Regresión polinomial grado 3                         11.901779  0.983007\n",
      "Regresión polinomial grado 3 escalado estándar       11.901779  0.983007\n",
      "Regresión polinomial grado 3 escalado robusto        11.901779  0.983007\n",
      "Regresión polinomial estocástico grado 3 escala...   12.069313  0.982768 \n",
      "\n"
     ]
    }
   ],
   "source": [
    "data = {'mse':mse_list,\n",
    "        'r2':r2_list}\n",
    " \n",
    "# Creates pandas DataFrame.\n",
    "df = pd.DataFrame(data, index =['Regresión lineal',\n",
    "                                'Regresión polinomial grado 2',\n",
    "                                'Regresión polinomial grado 3',\n",
    "                                'Regresión polinomial grado 3 escalado estándar',\n",
    "                                'Regresión polinomial grado 3 escalado robusto',\n",
    "                                'Regresión polinomial estocástico grado 3 escalado robusto'])\n",
    "\n",
    "print(df,'\\n')\n",
    "plt.show()"
   ]
  }
 ],
 "metadata": {
  "kernelspec": {
   "display_name": "Python 3 (ipykernel)",
   "language": "python",
   "name": "python3"
  },
  "language_info": {
   "codemirror_mode": {
    "name": "ipython",
    "version": 3
   },
   "file_extension": ".py",
   "mimetype": "text/x-python",
   "name": "python",
   "nbconvert_exporter": "python",
   "pygments_lexer": "ipython3",
   "version": "3.9.12"
  }
 },
 "nbformat": 4,
 "nbformat_minor": 5
}
