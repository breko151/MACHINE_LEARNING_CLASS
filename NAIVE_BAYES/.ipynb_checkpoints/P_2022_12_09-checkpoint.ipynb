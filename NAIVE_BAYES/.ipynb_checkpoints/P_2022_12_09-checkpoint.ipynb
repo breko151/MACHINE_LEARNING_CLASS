{
 "cells": [
  {
   "cell_type": "markdown",
   "id": "77acb4f7",
   "metadata": {},
   "source": [
    "# Práctica 26-11-2022\n",
    "**Nava del Río José Antonio**  \n",
    "**Ojeda Contreras Braulio Melquisedec**  \n",
    "**Suárez Pérez Juan Pablo**"
   ]
  },
  {
   "cell_type": "code",
   "execution_count": 1,
   "id": "9e68fd82",
   "metadata": {},
   "outputs": [],
   "source": [
    "# Import the libraries needed\n",
    "import pandas as pd\n",
    "from sklearn.model_selection import train_test_split, KFold\n",
    "from sklearn.naive_bayes import GaussianNB\n",
    "from sklearn.naive_bayes import MultinomialNB\n",
    "from sklearn.metrics import accuracy_score, classification_report, confusion_matrix, ConfusionMatrixDisplay \n",
    "from tabulate import tabulate\n",
    "import numpy as np\n",
    "import matplotlib.pyplot as plt"
   ]
  },
  {
   "cell_type": "code",
   "execution_count": 2,
   "id": "82f7ab82",
   "metadata": {},
   "outputs": [],
   "source": [
    "general_results = list()\n",
    "general_headers = ['Mean Accuracy 3-folds', 'Accuracy Test']\n",
    "general_indexes = ['emails.csv-Gaussiano', 'emails.csv-Multinomial', 'iris.csv-Gaussiano', 'iris.csv-Multinomial']"
   ]
  },
  {
   "cell_type": "code",
   "execution_count": 3,
   "id": "586838b8",
   "metadata": {},
   "outputs": [],
   "source": [
    "class validation_set:\n",
    "    \n",
    "    def __init__(self, X_train, y_train, X_test, y_test):\n",
    "        self.X_train = X_train\n",
    "        self.y_train = y_train\n",
    "        self.X_test = X_test\n",
    "        self.y_test = y_test"
   ]
  },
  {
   "cell_type": "code",
   "execution_count": 4,
   "id": "ed11f031",
   "metadata": {},
   "outputs": [],
   "source": [
    "def gaussian(X_train, X_test, y_train, y_test):\n",
    "    clf = GaussianNB()\n",
    "    clf.fit(X_train, y_train)\n",
    "    y_predict = clf.predict(X_test)\n",
    "    accuracy = accuracy_score(y_test, y_predict)\n",
    "    return accuracy"
   ]
  },
  {
   "cell_type": "code",
   "execution_count": 5,
   "id": "bfbd177f",
   "metadata": {},
   "outputs": [],
   "source": [
    "def multinomial(X_train, X_test, y_train, y_test):\n",
    "    clf = MultinomialNB()\n",
    "    clf.fit(X_train, y_train)\n",
    "    y_predict = clf.predict(X_test)\n",
    "    accuracy = accuracy_score(y_test, y_predict)\n",
    "    return accuracy    "
   ]
  },
  {
   "cell_type": "markdown",
   "id": "5e419f35",
   "metadata": {},
   "source": [
    "## EMAILS "
   ]
  },
  {
   "cell_type": "code",
   "execution_count": 6,
   "id": "7591e4a8",
   "metadata": {},
   "outputs": [],
   "source": [
    "# Get data\n",
    "df = pd.read_csv('./emails.csv', sep = ',', engine = 'python')\n",
    "X = df.drop(['Email No.', 'Prediction'], axis = 1).values\n",
    "y = df['Prediction'].values"
   ]
  },
  {
   "cell_type": "code",
   "execution_count": 7,
   "id": "999e8320",
   "metadata": {},
   "outputs": [],
   "source": [
    "# Generate Data Test and Data Train\n",
    "X_train, X_test, y_train, y_test = train_test_split(X, y, test_size = 0.3, random_state = 0)"
   ]
  },
  {
   "cell_type": "code",
   "execution_count": 8,
   "id": "445e93f1",
   "metadata": {},
   "outputs": [],
   "source": [
    "validation_sets = []\n",
    "kf = KFold(n_splits = 3)\n",
    "for train_index, test_index in kf.split(X_train):\n",
    "    X_train_v, X_test_v = X_train[train_index], X_train[test_index]\n",
    "    y_train_v, y_test_v = y_train[train_index], y_train[test_index]\n",
    "    validation_sets.append(validation_set(X_train_v, y_train_v, X_test_v, y_test_v))"
   ]
  },
  {
   "cell_type": "code",
   "execution_count": 9,
   "id": "4e873350",
   "metadata": {},
   "outputs": [
    {
     "name": "stdout",
     "output_type": "stream",
     "text": [
      "        Gaussian    Multinomial\n",
      "----  ----------  -------------\n",
      "k-1     0.947804       0.945319\n",
      "k-2     0.942833       0.937862\n",
      "k-3     0.94942        0.946932\n",
      "Mean    0.946686       0.943371\n"
     ]
    }
   ],
   "source": [
    "results_gaussian = list()\n",
    "results_multinonmial = list()\n",
    "results = list()\n",
    "index = ['k-1', 'k-2', 'k-3', 'Mean']\n",
    "for vs in validation_sets:\n",
    "    results_gaussian.append(gaussian(vs.X_train, vs.X_test, vs.y_train, vs.y_test))\n",
    "    results_multinonmial.append(multinomial(vs.X_train, vs.X_test, vs.y_train, vs.y_test)) \n",
    "results_gaussian = np.array(results_gaussian)\n",
    "results_multinonmial = np.array(results_multinonmial)\n",
    "mean_gaussian = results_gaussian.mean()\n",
    "mean_multinomial = results_multinonmial.mean()\n",
    "for i in range(len(results_gaussian)):\n",
    "    results.append([results_gaussian[i], results_multinonmial[i]])\n",
    "results.append([mean_gaussian, mean_multinomial])\n",
    "print(tabulate(results, headers = ['Gaussian', 'Multinomial'], showindex = index))"
   ]
  },
  {
   "cell_type": "code",
   "execution_count": 10,
   "id": "a1e4300d",
   "metadata": {},
   "outputs": [
    {
     "name": "stdout",
     "output_type": "stream",
     "text": [
      "Result Gaussian Test: 0.9484536082474226\n",
      "Result Multinomial Test: 0.9413659793814433\n"
     ]
    }
   ],
   "source": [
    "result_gaussian_general = gaussian(X_train, X_test, y_train, y_test)\n",
    "result_multinomial_general = multinomial(X_train, X_test, y_train, y_test)\n",
    "print('Result Gaussian Test:', result_gaussian_general)\n",
    "print('Result Multinomial Test:', result_multinomial_general)\n",
    "general_results.append([mean_gaussian, result_gaussian_general])\n",
    "general_results.append([mean_multinomial, result_multinomial_general])"
   ]
  },
  {
   "cell_type": "code",
   "execution_count": 11,
   "id": "13650cab",
   "metadata": {},
   "outputs": [],
   "source": [
    "clf1 = GaussianNB()\n",
    "clf1.fit(X_train, y_train)\n",
    "target_names = clf1.classes_"
   ]
  },
  {
   "cell_type": "code",
   "execution_count": 12,
   "id": "8fe4be1c",
   "metadata": {},
   "outputs": [
    {
     "data": {
      "text/plain": [
       "MultinomialNB()"
      ]
     },
     "execution_count": 12,
     "metadata": {},
     "output_type": "execute_result"
    }
   ],
   "source": [
    "clf2 = MultinomialNB()\n",
    "clf2.fit(X_train, y_train)"
   ]
  },
  {
   "cell_type": "markdown",
   "id": "977f4183",
   "metadata": {},
   "source": [
    "### TRAIN GAUSSIAN RESULT "
   ]
  },
  {
   "cell_type": "code",
   "execution_count": 13,
   "id": "32597470",
   "metadata": {},
   "outputs": [
    {
     "name": "stdout",
     "output_type": "stream",
     "text": [
      "              precision    recall  f1-score   support\n",
      "\n",
      "           0       1.00      0.96      0.98      2561\n",
      "           1       0.90      1.00      0.95      1059\n",
      "\n",
      "    accuracy                           0.97      3620\n",
      "   macro avg       0.95      0.98      0.96      3620\n",
      "weighted avg       0.97      0.97      0.97      3620\n",
      "\n",
      "[[2447  114]\n",
      " [   3 1056]]\n"
     ]
    }
   ],
   "source": [
    "y_train_predict = clf1.predict(X_train)\n",
    "print(classification_report(y_train, y_train_predict))\n",
    "print(confusion_matrix(y_train, y_train_predict, labels = target_names))"
   ]
  },
  {
   "cell_type": "markdown",
   "id": "cc61e8f3",
   "metadata": {},
   "source": [
    "### TEST GAUSSIAN RESULT"
   ]
  },
  {
   "cell_type": "code",
   "execution_count": 14,
   "id": "a6390fe8",
   "metadata": {},
   "outputs": [
    {
     "name": "stdout",
     "output_type": "stream",
     "text": [
      "              precision    recall  f1-score   support\n",
      "\n",
      "           0       0.98      0.95      0.96      1111\n",
      "           1       0.88      0.95      0.91       441\n",
      "\n",
      "    accuracy                           0.95      1552\n",
      "   macro avg       0.93      0.95      0.94      1552\n",
      "weighted avg       0.95      0.95      0.95      1552\n",
      "\n",
      "[[1054   57]\n",
      " [  23  418]]\n"
     ]
    }
   ],
   "source": [
    "y_test_predict = clf1.predict(X_test)\n",
    "print(classification_report(y_test, y_test_predict))\n",
    "print(confusion_matrix(y_test, y_test_predict, labels = target_names))"
   ]
  },
  {
   "cell_type": "markdown",
   "id": "729234d5",
   "metadata": {},
   "source": [
    "### TRAIN MULTINOMIAL RESULT"
   ]
  },
  {
   "cell_type": "code",
   "execution_count": 15,
   "id": "15443611",
   "metadata": {},
   "outputs": [
    {
     "name": "stdout",
     "output_type": "stream",
     "text": [
      "              precision    recall  f1-score   support\n",
      "\n",
      "           0       0.98      0.95      0.96      2561\n",
      "           1       0.89      0.94      0.92      1059\n",
      "\n",
      "    accuracy                           0.95      3620\n",
      "   macro avg       0.93      0.95      0.94      3620\n",
      "weighted avg       0.95      0.95      0.95      3620\n",
      "\n",
      "[[2435  126]\n",
      " [  59 1000]]\n"
     ]
    }
   ],
   "source": [
    "y_train_predict = clf2.predict(X_train)\n",
    "print(classification_report(y_train, y_train_predict))\n",
    "print(confusion_matrix(y_train, y_train_predict, labels = target_names))"
   ]
  },
  {
   "cell_type": "markdown",
   "id": "dfc41a2c",
   "metadata": {},
   "source": [
    "### TEST MULTINOMIAL RESULT"
   ]
  },
  {
   "cell_type": "code",
   "execution_count": 16,
   "id": "afdc516c",
   "metadata": {},
   "outputs": [
    {
     "name": "stdout",
     "output_type": "stream",
     "text": [
      "              precision    recall  f1-score   support\n",
      "\n",
      "           0       0.98      0.94      0.96      1111\n",
      "           1       0.86      0.95      0.90       441\n",
      "\n",
      "    accuracy                           0.94      1552\n",
      "   macro avg       0.92      0.94      0.93      1552\n",
      "weighted avg       0.94      0.94      0.94      1552\n",
      "\n",
      "[[1043   68]\n",
      " [  23  418]]\n"
     ]
    }
   ],
   "source": [
    "y_test_predict = clf2.predict(X_test)\n",
    "print(classification_report(y_test, y_test_predict))\n",
    "print(confusion_matrix(y_test, y_test_predict, labels = target_names))"
   ]
  },
  {
   "cell_type": "markdown",
   "id": "8e96046f",
   "metadata": {},
   "source": [
    "## IRIS "
   ]
  },
  {
   "cell_type": "code",
   "execution_count": 17,
   "id": "9ad2cfcd",
   "metadata": {},
   "outputs": [],
   "source": [
    "# Get data\n",
    "df = pd.read_csv('./iris.csv', sep = ',', engine = 'python')\n",
    "X = df.drop('species', axis = 1).values\n",
    "y = df['species'].values"
   ]
  },
  {
   "cell_type": "code",
   "execution_count": 18,
   "id": "a1a98dcd",
   "metadata": {},
   "outputs": [],
   "source": [
    "# Generate Data Test and Data Train\n",
    "X_train, X_test, y_train, y_test = train_test_split(X, y, test_size = 0.3, random_state = 0)"
   ]
  },
  {
   "cell_type": "code",
   "execution_count": 19,
   "id": "82216a28",
   "metadata": {},
   "outputs": [],
   "source": [
    "validation_sets = []\n",
    "kf = KFold(n_splits = 3)\n",
    "for train_index, test_index in kf.split(X_train):\n",
    "    X_train_v, X_test_v = X_train[train_index], X_train[test_index]\n",
    "    y_train_v, y_test_v = y_train[train_index], y_train[test_index]\n",
    "    validation_sets.append(validation_set(X_train_v, y_train_v, X_test_v, y_test_v))"
   ]
  },
  {
   "cell_type": "code",
   "execution_count": 20,
   "id": "e5d2fd17",
   "metadata": {},
   "outputs": [
    {
     "name": "stdout",
     "output_type": "stream",
     "text": [
      "        Gaussian    Multinomial\n",
      "----  ----------  -------------\n",
      "k-1     0.914286       0.6\n",
      "k-2     1              0.942857\n",
      "k-3     0.942857       0.628571\n",
      "Mean    0.952381       0.72381\n"
     ]
    }
   ],
   "source": [
    "results_gaussian = list()\n",
    "results_multinonmial = list()\n",
    "results = list()\n",
    "index = ['k-1', 'k-2', 'k-3', 'Mean']\n",
    "for vs in validation_sets:\n",
    "    results_gaussian.append(gaussian(vs.X_train, vs.X_test, vs.y_train, vs.y_test))\n",
    "    results_multinonmial.append(multinomial(vs.X_train, vs.X_test, vs.y_train, vs.y_test)) \n",
    "results_gaussian = np.array(results_gaussian)\n",
    "results_multinonmial = np.array(results_multinonmial)\n",
    "mean_gaussian = results_gaussian.mean()\n",
    "mean_multinomial = results_multinonmial.mean()\n",
    "for i in range(len(results_gaussian)):\n",
    "    results.append([results_gaussian[i], results_multinonmial[i]])\n",
    "results.append([mean_gaussian, mean_multinomial])\n",
    "print(tabulate(results, headers = ['Gaussian', 'Multinomial'], showindex = index))"
   ]
  },
  {
   "cell_type": "code",
   "execution_count": 21,
   "id": "46d167eb",
   "metadata": {},
   "outputs": [
    {
     "name": "stdout",
     "output_type": "stream",
     "text": [
      "Result Gaussian Test: 1.0\n",
      "Result Multinomial Test: 0.6\n"
     ]
    }
   ],
   "source": [
    "result_gaussian_general = gaussian(X_train, X_test, y_train, y_test)\n",
    "result_multinomial_general = multinomial(X_train, X_test, y_train, y_test)\n",
    "print('Result Gaussian Test:', result_gaussian_general)\n",
    "print('Result Multinomial Test:', result_multinomial_general)\n",
    "general_results.append([mean_gaussian, result_gaussian_general])\n",
    "general_results.append([mean_multinomial, result_multinomial_general])"
   ]
  },
  {
   "cell_type": "code",
   "execution_count": 22,
   "id": "afdcc8cc",
   "metadata": {},
   "outputs": [],
   "source": [
    "clf1 = GaussianNB()\n",
    "clf1.fit(X_train, y_train)\n",
    "target_names = clf1.classes_"
   ]
  },
  {
   "cell_type": "code",
   "execution_count": 23,
   "id": "bac28084",
   "metadata": {},
   "outputs": [
    {
     "data": {
      "text/plain": [
       "MultinomialNB()"
      ]
     },
     "execution_count": 23,
     "metadata": {},
     "output_type": "execute_result"
    }
   ],
   "source": [
    "clf2 = MultinomialNB()\n",
    "clf2.fit(X_train, y_train)"
   ]
  },
  {
   "cell_type": "markdown",
   "id": "4865a599",
   "metadata": {},
   "source": [
    "### TRAIN GAUSSIAN RESULT "
   ]
  },
  {
   "cell_type": "code",
   "execution_count": 24,
   "id": "299e57ac",
   "metadata": {},
   "outputs": [
    {
     "name": "stdout",
     "output_type": "stream",
     "text": [
      "                 precision    recall  f1-score   support\n",
      "\n",
      "    Iris-setosa       1.00      1.00      1.00        34\n",
      "Iris-versicolor       0.91      0.91      0.91        32\n",
      " Iris-virginica       0.92      0.92      0.92        39\n",
      "\n",
      "       accuracy                           0.94       105\n",
      "      macro avg       0.94      0.94      0.94       105\n",
      "   weighted avg       0.94      0.94      0.94       105\n",
      "\n",
      "[[34  0  0]\n",
      " [ 0 29  3]\n",
      " [ 0  3 36]]\n"
     ]
    }
   ],
   "source": [
    "y_train_predict = clf1.predict(X_train)\n",
    "print(classification_report(y_train, y_train_predict, target_names = target_names))\n",
    "print(confusion_matrix(y_train, y_train_predict, labels = target_names))"
   ]
  },
  {
   "cell_type": "markdown",
   "id": "0edf19c7",
   "metadata": {},
   "source": [
    "### TEST GAUSSIAN RESULT"
   ]
  },
  {
   "cell_type": "code",
   "execution_count": 25,
   "id": "c3a925fd",
   "metadata": {},
   "outputs": [
    {
     "name": "stdout",
     "output_type": "stream",
     "text": [
      "                 precision    recall  f1-score   support\n",
      "\n",
      "    Iris-setosa       1.00      1.00      1.00        16\n",
      "Iris-versicolor       1.00      1.00      1.00        18\n",
      " Iris-virginica       1.00      1.00      1.00        11\n",
      "\n",
      "       accuracy                           1.00        45\n",
      "      macro avg       1.00      1.00      1.00        45\n",
      "   weighted avg       1.00      1.00      1.00        45\n",
      "\n",
      "[[16  0  0]\n",
      " [ 0 18  0]\n",
      " [ 0  0 11]]\n"
     ]
    }
   ],
   "source": [
    "y_test_predict = clf1.predict(X_test)\n",
    "print(classification_report(y_test, y_test_predict, target_names = target_names))\n",
    "print(confusion_matrix(y_test, y_test_predict, labels = target_names))"
   ]
  },
  {
   "cell_type": "markdown",
   "id": "fa9c566b",
   "metadata": {},
   "source": [
    "### TRAIN MULTINOMIAL RESULT"
   ]
  },
  {
   "cell_type": "code",
   "execution_count": 26,
   "id": "34be878e",
   "metadata": {},
   "outputs": [
    {
     "name": "stdout",
     "output_type": "stream",
     "text": [
      "                 precision    recall  f1-score   support\n",
      "\n",
      "    Iris-setosa       1.00      1.00      1.00        34\n",
      "Iris-versicolor       1.00      0.03      0.06        32\n",
      " Iris-virginica       0.56      1.00      0.72        39\n",
      "\n",
      "       accuracy                           0.70       105\n",
      "      macro avg       0.85      0.68      0.59       105\n",
      "   weighted avg       0.84      0.70      0.61       105\n",
      "\n",
      "[[34  0  0]\n",
      " [ 0  1 31]\n",
      " [ 0  0 39]]\n"
     ]
    }
   ],
   "source": [
    "y_train_predict = clf2.predict(X_train)\n",
    "print(classification_report(y_train, y_train_predict, target_names = target_names))\n",
    "print(confusion_matrix(y_train, y_train_predict, labels = target_names))"
   ]
  },
  {
   "cell_type": "markdown",
   "id": "e78ef1da",
   "metadata": {},
   "source": [
    "### TEST MULTINOMIAL RESULT"
   ]
  },
  {
   "cell_type": "code",
   "execution_count": 27,
   "id": "1a57a30b",
   "metadata": {
    "scrolled": true
   },
   "outputs": [
    {
     "name": "stdout",
     "output_type": "stream",
     "text": [
      "                 precision    recall  f1-score   support\n",
      "\n",
      "    Iris-setosa       1.00      1.00      1.00        16\n",
      "Iris-versicolor       0.00      0.00      0.00        18\n",
      " Iris-virginica       0.38      1.00      0.55        11\n",
      "\n",
      "       accuracy                           0.60        45\n",
      "      macro avg       0.46      0.67      0.52        45\n",
      "   weighted avg       0.45      0.60      0.49        45\n",
      "\n",
      "[[16  0  0]\n",
      " [ 0  0 18]\n",
      " [ 0  0 11]]\n"
     ]
    },
    {
     "name": "stderr",
     "output_type": "stream",
     "text": [
      "C:\\Users\\USUARIO DELL\\anaconda3\\lib\\site-packages\\sklearn\\metrics\\_classification.py:1318: UndefinedMetricWarning: Precision and F-score are ill-defined and being set to 0.0 in labels with no predicted samples. Use `zero_division` parameter to control this behavior.\n",
      "  _warn_prf(average, modifier, msg_start, len(result))\n",
      "C:\\Users\\USUARIO DELL\\anaconda3\\lib\\site-packages\\sklearn\\metrics\\_classification.py:1318: UndefinedMetricWarning: Precision and F-score are ill-defined and being set to 0.0 in labels with no predicted samples. Use `zero_division` parameter to control this behavior.\n",
      "  _warn_prf(average, modifier, msg_start, len(result))\n",
      "C:\\Users\\USUARIO DELL\\anaconda3\\lib\\site-packages\\sklearn\\metrics\\_classification.py:1318: UndefinedMetricWarning: Precision and F-score are ill-defined and being set to 0.0 in labels with no predicted samples. Use `zero_division` parameter to control this behavior.\n",
      "  _warn_prf(average, modifier, msg_start, len(result))\n"
     ]
    }
   ],
   "source": [
    "y_test_predict = clf2.predict(X_test)\n",
    "print(classification_report(y_test, y_test_predict, target_names = target_names))\n",
    "print(confusion_matrix(y_test, y_test_predict, labels = target_names))"
   ]
  },
  {
   "cell_type": "markdown",
   "id": "0fd7d632",
   "metadata": {},
   "source": [
    "## GENERAL RESULTS "
   ]
  },
  {
   "cell_type": "code",
   "execution_count": 28,
   "id": "93585be9",
   "metadata": {},
   "outputs": [
    {
     "name": "stdout",
     "output_type": "stream",
     "text": [
      "                          Mean Accuracy 3-folds    Accuracy Test\n",
      "----------------------  -----------------------  ---------------\n",
      "emails.csv-Gaussiano                   0.946686         0.948454\n",
      "emails.csv-Multinomial                 0.943371         0.941366\n",
      "iris.csv-Gaussiano                     0.952381         1\n",
      "iris.csv-Multinomial                   0.72381          0.6\n"
     ]
    }
   ],
   "source": [
    "print(tabulate(general_results, headers = general_headers, showindex = general_indexes))"
   ]
  }
 ],
 "metadata": {
  "kernelspec": {
   "display_name": "Python 3 (ipykernel)",
   "language": "python",
   "name": "python3"
  },
  "language_info": {
   "codemirror_mode": {
    "name": "ipython",
    "version": 3
   },
   "file_extension": ".py",
   "mimetype": "text/x-python",
   "name": "python",
   "nbconvert_exporter": "python",
   "pygments_lexer": "ipython3",
   "version": "3.9.12"
  }
 },
 "nbformat": 4,
 "nbformat_minor": 5
}
