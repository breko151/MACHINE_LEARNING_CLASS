{
 "cells": [
  {
   "cell_type": "markdown",
   "id": "89eb7b32",
   "metadata": {},
   "source": [
    "# NAIVE BAYES\n",
    "**Suárez Pérez Juan Pablo**"
   ]
  },
  {
   "cell_type": "code",
   "execution_count": 1,
   "id": "8345fc2a",
   "metadata": {},
   "outputs": [],
   "source": [
    "# Import the libraries needed\n",
    "import pandas as pd\n",
    "from sklearn.model_selection import train_test_split\n",
    "from sklearn.naive_bayes import GaussianNB\n",
    "from sklearn.naive_bayes import MultinomialNB\n",
    "from sklearn.metrics import accuracy_score\n",
    "from sklearn.metrics import classification_report\n",
    "from sklearn.metrics import confusion_matrix, ConfusionMatrixDisplay\n",
    "import matplotlib.pyplot as plt\n",
    "from tabulate import tabulate"
   ]
  },
  {
   "cell_type": "code",
   "execution_count": 2,
   "id": "f786a095",
   "metadata": {},
   "outputs": [],
   "source": [
    "# Get data\n",
    "df = pd.read_csv('./iris.csv', sep = ',', engine = 'python')\n",
    "X = df.drop(['species'], axis = 1).values   \n",
    "y = df['species'].values"
   ]
  },
  {
   "cell_type": "code",
   "execution_count": 3,
   "id": "25ef59cb",
   "metadata": {},
   "outputs": [],
   "source": [
    "# Slipt data\n",
    "X_train, X_test, y_train, y_test = train_test_split(X, y)"
   ]
  },
  {
   "cell_type": "markdown",
   "id": "8353c301",
   "metadata": {},
   "source": [
    "## GAUSSIAN MODEL"
   ]
  },
  {
   "cell_type": "code",
   "execution_count": 4,
   "id": "7fe6abd8",
   "metadata": {},
   "outputs": [
    {
     "data": {
      "text/plain": [
       "GaussianNB()"
      ]
     },
     "execution_count": 4,
     "metadata": {},
     "output_type": "execute_result"
    }
   ],
   "source": [
    "# Get model\n",
    "clf = GaussianNB()\n",
    "clf.fit(X_train, y_train)"
   ]
  },
  {
   "cell_type": "code",
   "execution_count": 5,
   "id": "f3336f65",
   "metadata": {},
   "outputs": [
    {
     "name": "stdout",
     "output_type": "stream",
     "text": [
      "Actual           Predict          Probs Predict\n",
      "---------------  ---------------  -------------------------------------------------\n",
      "Iris-virginica   Iris-virginica   [8.73748167e-182 7.61765382e-007 9.99999238e-001]\n",
      "Iris-versicolor  Iris-versicolor  [2.84477550e-94 9.93705123e-01 6.29487654e-03]\n",
      "Iris-versicolor  Iris-versicolor  [6.92035915e-84 9.93854776e-01 6.14522372e-03]\n",
      "Iris-virginica   Iris-virginica   [2.11921127e-163 3.03936261e-004 9.99696064e-001]\n",
      "Iris-virginica   Iris-virginica   [1.29702987e-115 3.29573667e-001 6.70426333e-001]\n",
      "Iris-versicolor  Iris-versicolor  [3.53965825e-63 9.99988268e-01 1.17324323e-05]\n",
      "Iris-versicolor  Iris-versicolor  [1.27244055e-101 9.43869080e-001 5.61309198e-002]\n",
      "Iris-virginica   Iris-virginica   [8.31166943e-135 4.24279370e-002 9.57572063e-001]\n",
      "Iris-virginica   Iris-virginica   [1.20136499e-166 2.40500330e-006 9.99997595e-001]\n",
      "Iris-versicolor  Iris-versicolor  [2.48214378e-26 9.99999825e-01 1.74806442e-07]\n",
      "Iris-versicolor  Iris-versicolor  [4.17748261e-84 9.89830992e-01 1.01690084e-02]\n",
      "Iris-setosa      Iris-setosa      [1.00000000e+00 1.92583783e-20 4.04168765e-27]\n",
      "Iris-setosa      Iris-setosa      [1.00000000e+00 8.36838856e-22 9.06054190e-28]\n",
      "Iris-versicolor  Iris-virginica   [4.68252889e-123 1.03553457e-001 8.96446543e-001]\n",
      "Iris-setosa      Iris-setosa      [1.00000000e+00 7.16708276e-19 6.91539409e-26]\n",
      "Iris-virginica   Iris-virginica   [3.57249279e-193 1.72015572e-007 9.99999828e-001]\n",
      "Iris-versicolor  Iris-versicolor  [5.78407593e-53 9.99997594e-01 2.40553179e-06]\n",
      "Iris-versicolor  Iris-versicolor  [2.76580146e-87 9.99255218e-01 7.44782018e-04]\n",
      "Iris-virginica   Iris-virginica   [6.35925071e-152 1.93667137e-003 9.98063329e-001]\n",
      "Iris-setosa      Iris-setosa      [1.00000000e+00 3.20402155e-21 4.84933025e-27]\n",
      "Iris-setosa      Iris-setosa      [1.00000000e+00 3.33305826e-19 3.04770766e-26]\n",
      "Iris-virginica   Iris-virginica   [9.74091111e-117 3.25145415e-001 6.74854585e-001]\n",
      "Iris-setosa      Iris-setosa      [1.00000000e+00 5.59681132e-20 7.83357430e-27]\n",
      "Iris-setosa      Iris-setosa      [1.00000000e+00 1.85724550e-19 6.53095143e-26]\n",
      "Iris-virginica   Iris-virginica   [1.45215844e-120 1.86176389e-001 8.13823611e-001]\n",
      "Iris-setosa      Iris-setosa      [1.00000000e+00 1.68448780e-19 3.64025066e-26]\n",
      "Iris-versicolor  Iris-versicolor  [2.09424739e-49 9.99988646e-01 1.13543279e-05]\n",
      "Iris-virginica   Iris-virginica   [2.29835531e-148 5.15218754e-004 9.99484781e-001]\n",
      "Iris-virginica   Iris-versicolor  [2.88435720e-112 9.77734386e-001 2.22656141e-002]\n",
      "Iris-versicolor  Iris-versicolor  [2.00433762e-43 9.99999538e-01 4.62410029e-07]\n",
      "Iris-versicolor  Iris-versicolor  [5.76433597e-60 9.99987665e-01 1.23346240e-05]\n",
      "Iris-setosa      Iris-setosa      [1.00000000e+00 1.99020189e-17 1.21145362e-24]\n",
      "Iris-setosa      Iris-setosa      [1.00000000e+00 8.78999335e-14 1.41946309e-20]\n",
      "Iris-setosa      Iris-setosa      [1.00000000e+00 6.14449367e-19 1.96311311e-25]\n",
      "Iris-setosa      Iris-setosa      [1.00000000e+00 3.65154801e-19 6.02671358e-26]\n",
      "Iris-setosa      Iris-setosa      [1.00000000e+00 8.25107799e-16 8.39379325e-23]\n",
      "Iris-setosa      Iris-setosa      [1.00000000e+00 3.02477962e-20 5.24521602e-27]\n",
      "Iris-setosa      Iris-setosa      [1.00000000e+00 1.64453164e-19 2.00679969e-26]\n"
     ]
    }
   ],
   "source": [
    "# Predict\n",
    "y_predict = clf.predict(X_test)\n",
    "y_predict_proba = clf.predict_proba(X_test)\n",
    "results = list()\n",
    "for i in range(len(y_predict)):\n",
    "    results.append([y_test[i], y_predict[i], y_predict_proba[i]])\n",
    "print(tabulate(results, headers = ['Actual', 'Predict', 'Probs Predict']))"
   ]
  },
  {
   "cell_type": "code",
   "execution_count": 6,
   "id": "18b1845d",
   "metadata": {},
   "outputs": [
    {
     "name": "stdout",
     "output_type": "stream",
     "text": [
      "0.9473684210526315\n",
      "36\n",
      "                 precision    recall  f1-score   support\n",
      "\n",
      "    Iris-setosa       1.00      1.00      1.00        15\n",
      "Iris-versicolor       0.92      0.92      0.92        12\n",
      " Iris-virginica       0.91      0.91      0.91        11\n",
      "\n",
      "       accuracy                           0.95        38\n",
      "      macro avg       0.94      0.94      0.94        38\n",
      "   weighted avg       0.95      0.95      0.95        38\n",
      "\n",
      "[[15  0  0]\n",
      " [ 0 11  1]\n",
      " [ 0  1 10]]\n"
     ]
    }
   ],
   "source": [
    "# Score\n",
    "print(accuracy_score(y_test, y_predict))\n",
    "print(accuracy_score(y_test, y_predict, normalize = False))\n",
    "target_names = clf.classes_\n",
    "print(classification_report(y_test, y_predict, target_names = target_names))\n",
    "print(confusion_matrix(y_test, y_predict, labels = target_names))"
   ]
  },
  {
   "cell_type": "markdown",
   "id": "ad16b28a",
   "metadata": {},
   "source": [
    "## MULTINOMIAL MODEL "
   ]
  },
  {
   "cell_type": "code",
   "execution_count": 7,
   "id": "e3cbf11c",
   "metadata": {},
   "outputs": [
    {
     "data": {
      "text/plain": [
       "MultinomialNB()"
      ]
     },
     "execution_count": 7,
     "metadata": {},
     "output_type": "execute_result"
    }
   ],
   "source": [
    "# Get model\n",
    "clf = MultinomialNB()\n",
    "clf.fit(X_train, y_train)"
   ]
  },
  {
   "cell_type": "code",
   "execution_count": 8,
   "id": "a9ed8dc1",
   "metadata": {},
   "outputs": [
    {
     "name": "stdout",
     "output_type": "stream",
     "text": [
      "1.0\n",
      "38\n"
     ]
    }
   ],
   "source": [
    "# Predict and Score\n",
    "y_predict = clf.predict(X_test)\n",
    "print(accuracy_score(y_test, y_predict))\n",
    "print(accuracy_score(y_test, y_predict, normalize = False))"
   ]
  },
  {
   "cell_type": "code",
   "execution_count": 9,
   "id": "a6124dc3",
   "metadata": {},
   "outputs": [
    {
     "name": "stdout",
     "output_type": "stream",
     "text": [
      "                 precision    recall  f1-score   support\n",
      "\n",
      "    Iris-setosa       1.00      1.00      1.00        15\n",
      "Iris-versicolor       1.00      1.00      1.00        12\n",
      " Iris-virginica       1.00      1.00      1.00        11\n",
      "\n",
      "       accuracy                           1.00        38\n",
      "      macro avg       1.00      1.00      1.00        38\n",
      "   weighted avg       1.00      1.00      1.00        38\n",
      "\n",
      "[[15  0  0]\n",
      " [ 0 12  0]\n",
      " [ 0  0 11]]\n"
     ]
    },
    {
     "data": {
      "image/png": "[encoded data removed]",
      "text/plain": [
       "<Figure size 432x288 with 2 Axes>"
      ]
     },
     "metadata": {
      "needs_background": "light"
     },
     "output_type": "display_data"
    }
   ],
   "source": [
    "# Score\n",
    "print(classification_report(y_test, y_predict, target_names = target_names))\n",
    "cm = confusion_matrix(y_test, y_predict, labels = target_names)\n",
    "print(cm)\n",
    "disp = ConfusionMatrixDisplay(confusion_matrix = cm, display_labels = target_names)\n",
    "disp.plot()\n",
    "plt.show()"
   ]
  }
 ],
 "metadata": {
  "kernelspec": {
   "display_name": "Python 3 (ipykernel)",
   "language": "python",
   "name": "python3"
  },
  "language_info": {
   "codemirror_mode": {
    "name": "ipython",
    "version": 3
   },
   "file_extension": ".py",
   "mimetype": "text/x-python",
   "name": "python",
   "nbconvert_exporter": "python",
   "pygments_lexer": "ipython3",
   "version": "3.9.12"
  }
 },
 "nbformat": 4,
 "nbformat_minor": 5
}
