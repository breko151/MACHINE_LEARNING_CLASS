{
 "cells": [
  {
   "cell_type": "markdown",
   "id": "6fd7aa65",
   "metadata": {},
   "source": [
    "# Train Test\n",
    "**Suárez Pérz Juan Pablo**"
   ]
  },
  {
   "cell_type": "code",
   "execution_count": 1,
   "id": "d384b7ac",
   "metadata": {},
   "outputs": [],
   "source": [
    "# Import the libraries needed.\n",
    "import pandas as pd\n",
    "from sklearn.model_selection import train_test_split"
   ]
  },
  {
   "cell_type": "code",
   "execution_count": 2,
   "id": "ef15b658",
   "metadata": {},
   "outputs": [
    {
     "name": "stdout",
     "output_type": "stream",
     "text": [
      "df      x   y\n",
      "0    3   5\n",
      "1    7  11\n",
      "2   11  21\n",
      "3   15  16\n",
      "4   18  16\n",
      "5   27  28\n",
      "6   29  27\n",
      "7   30  25\n",
      "8   30  35\n",
      "9   31  30\n",
      "10  31  40\n",
      "11  32  32\n",
      "12  33  34\n",
      "13  33  32\n",
      "14  34  34\n",
      "15  36  37\n",
      "16  36  38\n",
      "17  36  34\n",
      "18  37  36\n",
      "19  38  38\n",
      "20  39  37\n",
      "21  39  36\n",
      "22  39  45\n",
      "23  40  39\n",
      "24  41  41\n",
      "25  42  40\n",
      "26  42  44\n",
      "27  43  37\n",
      "28  44  44\n",
      "29  45  46\n",
      "30  46  46\n",
      "31  47  49\n",
      "32  50  51\n",
      "----------------------\n",
      "\n",
      " Corpus\n",
      "\n",
      " [3] [7] [11] [15] [18] [27] [29] [30] [30] [31] [31] [32] [33] [33] [34] [36] [36] [36] [37] [38] [39] [39] [39] [40] [41] [42] [42] [43] [44] [45] [46] [47] [50]\n",
      "----------------------\n",
      "\n",
      " Etiquetas\n",
      "\n",
      " 5 11 21 16 16 28 27 25 35 30 40 32 34 32 34 37 38 34 36 38 37 36 45 39 41 40 44 37 44 46 46 49 51\n",
      "----------------------\n"
     ]
    }
   ],
   "source": [
    "# Create a data.frame with the file given.\n",
    "df = pd.read_csv('peleteria.csv', sep=',', engine='python')\n",
    "# Corpus without tags.\n",
    "x = df.drop('y',axis=1).values\n",
    "# Tags.\n",
    "y = df['y'].values\n",
    "\n",
    "print('df', df)\n",
    "print ('----------------------')\n",
    "\n",
    "print('\\n Corpus')\n",
    "print('\\n', *x)\n",
    "print ('----------------------')\n",
    "\n",
    "print('\\n Etiquetas')\n",
    "print('\\n', *y)\n",
    "print ('----------------------')\t  "
   ]
  },
  {
   "cell_type": "code",
   "execution_count": 3,
   "id": "148e313c",
   "metadata": {},
   "outputs": [
    {
     "name": "stdout",
     "output_type": "stream",
     "text": [
      "Conjunto de entrenamiento\n",
      "\n",
      " x_e  [3] [7] [11] [15] [18] [27] [29] [30] [30] [31] [31] [32] [33] [33] [34] [36]\n",
      "\n",
      " y_e  [ 5 11 21 16 16 28 27 25 35 30 40 32 34 32 34 37]\n",
      "----------------------\n",
      "\n",
      " Conjunto de prueba\n",
      "\n",
      " x_p [36] [36] [37] [38] [39] [39] [39] [40] [41] [42] [42] [43] [44] [45] [46] [47] [50]\n",
      "\n",
      " y_p [38 34 36 38 37 36 45 39 41 40 44 37 44 46 46 49 51]\n",
      "----------------------\n"
     ]
    }
   ],
   "source": [
    "x_e, x_p, y_e, y_p = train_test_split(x, y, test_size = 0.5, shuffle = False)\t\n",
    "print('Conjunto de entrenamiento')\n",
    "print ('\\n x_e ', *x_e)\n",
    "print ('\\n y_e ', y_e)\n",
    "print ('----------------------')\n",
    "\n",
    "print('\\n Conjunto de prueba')\n",
    "print ('\\n x_p', *x_p)\n",
    "print ('\\n y_p', y_p)\n",
    "print ('----------------------')"
   ]
  }
 ],
 "metadata": {
  "kernelspec": {
   "display_name": "Python 3 (ipykernel)",
   "language": "python",
   "name": "python3"
  },
  "language_info": {
   "codemirror_mode": {
    "name": "ipython",
    "version": 3
   },
   "file_extension": ".py",
   "mimetype": "text/x-python",
   "name": "python",
   "nbconvert_exporter": "python",
   "pygments_lexer": "ipython3",
   "version": "3.9.12"
  }
 },
 "nbformat": 4,
 "nbformat_minor": 5
}
