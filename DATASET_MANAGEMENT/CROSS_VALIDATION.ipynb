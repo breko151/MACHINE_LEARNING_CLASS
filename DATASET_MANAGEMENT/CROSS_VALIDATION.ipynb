{
 "cells": [
  {
   "cell_type": "markdown",
   "id": "90231da1",
   "metadata": {},
   "source": [
    "# Cross Validation\n",
    "**Suárez Pérez Juan Pablo**"
   ]
  },
  {
   "cell_type": "code",
   "execution_count": 1,
   "id": "c2c9e6ff",
   "metadata": {},
   "outputs": [],
   "source": [
    "# Import the libraries needed\n",
    "import random\n",
    "import numpy as np\n",
    "from sklearn.model_selection import LeaveOneOut\n",
    "from sklearn.model_selection import KFold\n",
    "from sklearn.utils import resample"
   ]
  },
  {
   "cell_type": "code",
   "execution_count": 2,
   "id": "d4259111",
   "metadata": {},
   "outputs": [
    {
     "name": "stdout",
     "output_type": "stream",
     "text": [
      "Shuffle ['i3', 'i7', 'i1', 'i6', 'i4', 'i10', 'i5', 'i2', 'i8', 'i9']\n"
     ]
    }
   ],
   "source": [
    "# Shuffle\n",
    "X = [\"i1\", \"i2\", \"i3\", \"i4\", \"i5\", \"i6\", \"i7\", \"i8\", \"i9\", \"i10\"]\n",
    "random.shuffle(X)\n",
    "print ('Shuffle {}'.format(X))"
   ]
  },
  {
   "cell_type": "code",
   "execution_count": 3,
   "id": "59284483",
   "metadata": {},
   "outputs": [
    {
     "name": "stdout",
     "output_type": "stream",
     "text": [
      "LeaveOneOut\n",
      "10\n",
      "train [1 2 3 4 5 6 7 8 9] test [0]\n",
      "train [0 2 3 4 5 6 7 8 9] test [1]\n",
      "train [0 1 3 4 5 6 7 8 9] test [2]\n",
      "train [0 1 2 4 5 6 7 8 9] test [3]\n",
      "train [0 1 2 3 5 6 7 8 9] test [4]\n",
      "train [0 1 2 3 4 6 7 8 9] test [5]\n",
      "train [0 1 2 3 4 5 7 8 9] test [6]\n",
      "train [0 1 2 3 4 5 6 8 9] test [7]\n",
      "train [0 1 2 3 4 5 6 7 9] test [8]\n",
      "train [0 1 2 3 4 5 6 7 8] test [9]\n"
     ]
    }
   ],
   "source": [
    "# Leave One Out\n",
    "print ('LeaveOneOut')\n",
    "loo = LeaveOneOut()\n",
    "print (loo.get_n_splits(X))\n",
    "for train, test in loo.split(X):\n",
    "    print(\"train {} test {}\".format(train, test))"
   ]
  },
  {
   "cell_type": "code",
   "execution_count": 4,
   "id": "0cbf877e",
   "metadata": {},
   "outputs": [
    {
     "name": "stdout",
     "output_type": "stream",
     "text": [
      "k-fold cross validation\n",
      "k = 5\n",
      "train [2 3 4 5 6 7 8 9] test [0 1]\n",
      "train [0 1 4 5 6 7 8 9] test [2 3]\n",
      "train [0 1 2 3 6 7 8 9] test [4 5]\n",
      "train [0 1 2 3 4 5 8 9] test [6 7]\n",
      "train [0 1 2 3 4 5 6 7] test [8 9]\n"
     ]
    }
   ],
   "source": [
    "# k-fold cross validation\n",
    "print ('k-fold cross validation')\n",
    "k=5\n",
    "print('k =',k)\n",
    "kf = KFold(n_splits=k)\n",
    "for train, test in kf.split(X):\n",
    "    print(\"train {} test {}\".format(train, test))"
   ]
  },
  {
   "cell_type": "code",
   "execution_count": 5,
   "id": "e8c43e51",
   "metadata": {},
   "outputs": [
    {
     "name": "stdout",
     "output_type": "stream",
     "text": [
      "Bootstrap\n",
      "X i3 i7 i1 i6 i4 i10 i5 i2 i8 i9\n",
      "train ['i3', 'i8', 'i3', 'i6', 'i9', 'i4', 'i7', 'i2', 'i10', 'i6']\n",
      "test ['i1' 'i5']\n"
     ]
    }
   ],
   "source": [
    "# Bootstrap\n",
    "print ('Bootstrap')\n",
    "print('X', *X)\n",
    "train = resample(X, n_samples = len(X))\n",
    "print ('train {}'.format(train))\n",
    "test = np.array([x for x in X if x not in train]) \n",
    "print ('test {}'.format(test))"
   ]
  }
 ],
 "metadata": {
  "kernelspec": {
   "display_name": "Python 3 (ipykernel)",
   "language": "python",
   "name": "python3"
  },
  "language_info": {
   "codemirror_mode": {
    "name": "ipython",
    "version": 3
   },
   "file_extension": ".py",
   "mimetype": "text/x-python",
   "name": "python",
   "nbconvert_exporter": "python",
   "pygments_lexer": "ipython3",
   "version": "3.9.13"
  }
 },
 "nbformat": 4,
 "nbformat_minor": 5
}
