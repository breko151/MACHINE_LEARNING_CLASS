{
 "cells": [
  {
   "cell_type": "markdown",
   "id": "9ea0a08a",
   "metadata": {},
   "source": [
    "# ARTIFICIAL NEURAL NETWORK\n",
    "**Nava del Río José Antonio**  \n",
    "**Ojeda Contreras Braulio Melquisdec**  \n",
    "**Suárez Pérez Juan Pablo**"
   ]
  },
  {
   "cell_type": "code",
   "execution_count": 1,
   "id": "37f7c1fb",
   "metadata": {},
   "outputs": [],
   "source": [
    "# Import the libraries needed\n",
    "import pandas as pd\n",
    "# Neural network from sklearn\n",
    "from sklearn.neural_network import MLPClassifier\n",
    "from sklearn.model_selection import train_test_split, KFold\n",
    "from sklearn.metrics import accuracy_score, classification_report, confusion_matrix, ConfusionMatrixDisplay \n",
    "from tabulate import tabulate\n",
    "import numpy as np\n",
    "import matplotlib.pyplot as plt"
   ]
  },
  {
   "cell_type": "code",
   "execution_count": 2,
   "id": "73134ae1",
   "metadata": {},
   "outputs": [],
   "source": [
    "# Get data\n",
    "df = pd.read_csv('./heart.csv', sep = ',', engine = 'python')\n",
    "X = df.drop(['target'], axis = 1).values\n",
    "y = df['target'].values"
   ]
  },
  {
   "cell_type": "code",
   "execution_count": 3,
   "id": "31b5d559",
   "metadata": {},
   "outputs": [],
   "source": [
    "# Generate Data Test and Data Train\n",
    "X_train, X_test, y_train, y_test = train_test_split(X, y, test_size = 0.3, random_state = 0)"
   ]
  },
  {
   "cell_type": "code",
   "execution_count": 4,
   "id": "cbb3ab29",
   "metadata": {},
   "outputs": [],
   "source": [
    "# Initializing the MLPClassifier\n",
    "classifier = MLPClassifier(hidden_layer_sizes = (150, 100, 50),\n",
    "                          max_iter = 300, activation = 'relu',\n",
    "                          solver = 'adam', random_state = 1)"
   ]
  },
  {
   "cell_type": "markdown",
   "id": "9ff6bfd3",
   "metadata": {},
   "source": [
    "**hidden_layer_sizes:** Number of layers and number of nodes, the length of tuple representes the number of hidden layers, each element represents the number of nodes.  \n",
    "**max_iter:**  Represents the number of cycles or epochs.  \n",
    "**activation:** The activation function for the hidden layers.  \n",
    "**solver:** Specifies the algorithm for weight optimization across the nodes.  "
   ]
  },
  {
   "cell_type": "code",
   "execution_count": 5,
   "id": "922edaaa",
   "metadata": {},
   "outputs": [
    {
     "data": {
      "text/plain": [
       "MLPClassifier(hidden_layer_sizes=(150, 100, 50), max_iter=300, random_state=1)"
      ]
     },
     "execution_count": 5,
     "metadata": {},
     "output_type": "execute_result"
    }
   ],
   "source": [
    "# Fitting the training data to the network\n",
    "classifier.fit(X_train, y_train)"
   ]
  },
  {
   "cell_type": "code",
   "execution_count": 6,
   "id": "1ff633e1",
   "metadata": {},
   "outputs": [],
   "source": [
    "y_pred = classifier.predict(X_test)"
   ]
  },
  {
   "cell_type": "code",
   "execution_count": 7,
   "id": "5bcd91bc",
   "metadata": {},
   "outputs": [
    {
     "name": "stdout",
     "output_type": "stream",
     "text": [
      "|   Y Test |   Y Predict |\n",
      "|----------|-------------|\n",
      "|        0 |           0 |\n",
      "|        1 |           1 |\n",
      "|        0 |           1 |\n",
      "|        0 |           1 |\n",
      "|        1 |           1 |\n",
      "|        0 |           1 |\n",
      "|        0 |           0 |\n",
      "|        0 |           1 |\n",
      "|        0 |           0 |\n",
      "|        0 |           0 |\n",
      "|        1 |           1 |\n",
      "|        1 |           1 |\n",
      "|        0 |           0 |\n",
      "|        1 |           1 |\n",
      "|        1 |           1 |\n",
      "|        1 |           1 |\n",
      "|        1 |           1 |\n",
      "|        1 |           1 |\n",
      "|        0 |           0 |\n",
      "|        1 |           1 |\n",
      "|        1 |           1 |\n",
      "|        0 |           1 |\n",
      "|        0 |           0 |\n",
      "|        0 |           1 |\n",
      "|        1 |           1 |\n",
      "|        0 |           0 |\n",
      "|        0 |           1 |\n",
      "|        0 |           1 |\n",
      "|        1 |           1 |\n",
      "|        1 |           1 |\n",
      "|        0 |           1 |\n",
      "|        0 |           1 |\n",
      "|        1 |           1 |\n",
      "|        1 |           1 |\n",
      "|        1 |           1 |\n",
      "|        0 |           0 |\n",
      "|        0 |           0 |\n",
      "|        1 |           1 |\n",
      "|        0 |           1 |\n",
      "|        0 |           1 |\n",
      "|        1 |           1 |\n",
      "|        1 |           1 |\n",
      "|        1 |           1 |\n",
      "|        0 |           1 |\n",
      "|        1 |           1 |\n",
      "|        1 |           1 |\n",
      "|        1 |           1 |\n",
      "|        0 |           1 |\n",
      "|        0 |           1 |\n",
      "|        1 |           1 |\n",
      "|        1 |           1 |\n",
      "|        1 |           1 |\n",
      "|        1 |           1 |\n",
      "|        1 |           1 |\n",
      "|        1 |           1 |\n",
      "|        0 |           1 |\n",
      "|        1 |           1 |\n",
      "|        0 |           1 |\n",
      "|        1 |           1 |\n",
      "|        1 |           1 |\n",
      "|        1 |           1 |\n",
      "|        1 |           1 |\n",
      "|        1 |           1 |\n",
      "|        1 |           1 |\n",
      "|        0 |           1 |\n",
      "|        0 |           1 |\n",
      "|        0 |           1 |\n",
      "|        0 |           1 |\n",
      "|        1 |           1 |\n",
      "|        1 |           1 |\n",
      "|        1 |           1 |\n",
      "|        1 |           1 |\n",
      "|        1 |           1 |\n",
      "|        0 |           1 |\n",
      "|        0 |           0 |\n",
      "|        1 |           1 |\n",
      "|        0 |           1 |\n",
      "|        0 |           1 |\n",
      "|        1 |           1 |\n",
      "|        1 |           0 |\n",
      "|        0 |           0 |\n",
      "|        0 |           0 |\n",
      "|        0 |           0 |\n",
      "|        1 |           1 |\n",
      "|        0 |           1 |\n",
      "|        0 |           1 |\n",
      "|        0 |           1 |\n",
      "|        0 |           1 |\n",
      "|        1 |           1 |\n",
      "|        0 |           0 |\n",
      "|        0 |           1 |\n"
     ]
    }
   ],
   "source": [
    "results = list()\n",
    "for i in range(len(y_test)):\n",
    "    results.append([y_test[i], y_pred[i]])\n",
    "print(tabulate(results, headers = ['Y Test', 'Y Predict'], tablefmt = 'github'))"
   ]
  },
  {
   "cell_type": "code",
   "execution_count": 8,
   "id": "3b7cc1c3",
   "metadata": {},
   "outputs": [
    {
     "name": "stdout",
     "output_type": "stream",
     "text": [
      "              precision    recall  f1-score   support\n",
      "\n",
      "           0       0.94      0.34      0.50        44\n",
      "           1       0.61      0.98      0.75        47\n",
      "\n",
      "    accuracy                           0.67        91\n",
      "   macro avg       0.78      0.66      0.63        91\n",
      "weighted avg       0.77      0.67      0.63        91\n",
      "\n",
      "[[46  1]\n",
      " [29 15]]\n"
     ]
    },
    {
     "data": {
      "image/png": "[encoded data removed]",
      "text/plain": [
       "<Figure size 432x288 with 2 Axes>"
      ]
     },
     "metadata": {
      "needs_background": "light"
     },
     "output_type": "display_data"
    }
   ],
   "source": [
    "# Report of the model\n",
    "target_names = list(map(str, [0, 1]))\n",
    "print(classification_report(y_test, y_pred, target_names=target_names))\n",
    "cm = confusion_matrix(y_test, y_pred, labels=[1, 0])\n",
    "print(cm)\n",
    "disp = ConfusionMatrixDisplay(confusion_matrix=cm, display_labels=target_names)\n",
    "disp.plot()\n",
    "plt.show()"
   ]
  }
 ],
 "metadata": {
  "kernelspec": {
   "display_name": "Python 3 (ipykernel)",
   "language": "python",
   "name": "python3"
  },
  "language_info": {
   "codemirror_mode": {
    "name": "ipython",
    "version": 3
   },
   "file_extension": ".py",
   "mimetype": "text/x-python",
   "name": "python",
   "nbconvert_exporter": "python",
   "pygments_lexer": "ipython3",
   "version": "3.9.12"
  }
 },
 "nbformat": 4,
 "nbformat_minor": 5
}
