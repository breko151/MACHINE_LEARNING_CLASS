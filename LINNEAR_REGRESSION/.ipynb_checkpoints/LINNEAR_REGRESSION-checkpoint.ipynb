{
 "cells": [
  {
   "cell_type": "markdown",
   "metadata": {},
   "source": [
    "# Linnear Regression\n",
    "**Suárez Pérez Juan Pablo**"
   ]
  },
  {
   "cell_type": "code",
   "execution_count": 1,
   "metadata": {},
   "outputs": [],
   "source": [
    "# Import the libraries needed.\n",
    "import pandas as pd\n",
    "import numpy as npb\n",
    "from sklearn.model_selection import train_test_split\n",
    "import matplotlib.pyplot as plt"
   ]
  },
  {
   "cell_type": "code",
   "execution_count": 2,
   "metadata": {},
   "outputs": [],
   "source": [
    "# Create a data.frame with the file given.\n",
    "df = pd.read_csv('peleteria.csv', sep=',', engine='python')\n",
    "# Corpus without tags.\n",
    "X = df.drop('y',axis=1).values\n",
    "# Tags.\n",
    "y = df['y'].values"
   ]
  },
  {
   "cell_type": "code",
   "execution_count": 3,
   "metadata": {},
   "outputs": [],
   "source": [
    "# Generate Data Test and Data Train\n",
    "X_e, X_p, y_e, y_p = train_test_split(X, y, test_size = 0.1, random_state = 0)"
   ]
  },
  {
   "cell_type": "code",
   "execution_count": 4,
   "metadata": {},
   "outputs": [],
   "source": [
    "def get_b1(x, y):\n",
    "    # Generate the sums.\n",
    "    n = len(y)\n",
    "    sum_xy = 0\n",
    "    sum_x = 0\n",
    "    sum_y = 0\n",
    "    sum_x2 = 0\n",
    "    for i in range(n):\n",
    "        sum_xy = sum_xy + (y[i] * x[i][0])\n",
    "        sum_x = sum_x + (x[i][0])\n",
    "        sum_y = sum_y + (y[i])\n",
    "        sum_x2 = sum_x2 + (x[i][0] ** 2)\n",
    "    # Print the results.\n",
    "    print(\"B1\")\n",
    "    print(\"sum_xy:\", sum_xy)\n",
    "    print(\"sum_x:\", sum_x)\n",
    "    print(\"sum_y:\", sum_y)\n",
    "    print(\"sum_x**2:\", sum_x2)\n",
    "    print(\"(sum_x)**2\", sum_x ** 2)\n",
    "    b1 = ((n * sum_xy) - (sum_x) * (sum_y)) / ((n * sum_x2) - (sum_x ** 2))\n",
    "    return b1\n",
    "    "
   ]
  },
  {
   "cell_type": "code",
   "execution_count": 5,
   "metadata": {},
   "outputs": [],
   "source": [
    "def get_b0(x, y, b1):\n",
    "    # Generate the sums.\n",
    "    n = len(y)\n",
    "    sum_x = 0\n",
    "    sum_y = 0\n",
    "    for i in range(n):\n",
    "        sum_x = sum_x + x[i][0]\n",
    "        sum_y = sum_y + y[i]\n",
    "    # Print the results.\n",
    "    print(\"B0\")\n",
    "    print(\"sum_x\", sum_x)\n",
    "    print(\"sum_y\", sum_y)\n",
    "    b0 = (sum_y - (b1 * sum_x)) / n\n",
    "    return b0"
   ]
  },
  {
   "cell_type": "code",
   "execution_count": 6,
   "metadata": {},
   "outputs": [],
   "source": [
    "def regresion(x, y):\n",
    "    # Get b1 and b0, for the Linnear Regression Model.\n",
    "    b1 = get_b1(x, y)\n",
    "    b0 = get_b0(x, y, b1)    \n",
    "    print(\"b1:\", b1)\n",
    "    print(\"b0:\", b0)\n",
    "    return [b0, b1]"
   ]
  },
  {
   "cell_type": "code",
   "execution_count": 7,
   "metadata": {},
   "outputs": [
    {
     "name": "stdout",
     "output_type": "stream",
     "text": [
      "B1\n",
      "sum_xy: 35983\n",
      "sum_x: 956\n",
      "sum_y: 980\n",
      "sum_x**2: 35564\n",
      "(sum_x)**2 913936\n",
      "B0\n",
      "sum_x 956\n",
      "sum_y 980\n",
      "b1: 0.9080820984500085\n",
      "b0: 3.8577073752342015\n"
     ]
    }
   ],
   "source": [
    "# Get b0 and b1 for the Train Data.\n",
    "b0, b1 = regresion(X_e, y_e)"
   ]
  },
  {
   "cell_type": "code",
   "execution_count": 8,
   "metadata": {},
   "outputs": [],
   "source": [
    "# Get the prediction for some X component.\n",
    "def prediction(x, b0, b1):\n",
    "    y = b0 + b1 * x\n",
    "    return y"
   ]
  },
  {
   "cell_type": "code",
   "execution_count": 9,
   "metadata": {},
   "outputs": [],
   "source": [
    "# Get the predictions for all X train.\n",
    "predict_xe = [prediction(x[0], b0, b1) for x in X_e]"
   ]
  },
  {
   "cell_type": "code",
   "execution_count": 10,
   "metadata": {},
   "outputs": [],
   "source": [
    "# Get the predictions for all X test.\n",
    "predict_xp = [prediction(x[0], b0, b1) for x in X_p]"
   ]
  },
  {
   "cell_type": "code",
   "execution_count": 11,
   "metadata": {},
   "outputs": [
    {
     "data": {
      "image/png": "[encoded data removed]",
      "text/plain": [
       "<Figure size 432x288 with 1 Axes>"
      ]
     },
     "metadata": {
      "needs_background": "light"
     },
     "output_type": "display_data"
    }
   ],
   "source": [
    "# Generate the Graphic for Data train.\n",
    "# Get the values for all componentes of X_e.\n",
    "new_xe =  [x[0] for x in X_e]\n",
    "# Plot the prediction.\n",
    "plt.plot(new_xe, predict_xe)\n",
    "# Scatter the Data train.\n",
    "plt.scatter(new_xe, y_e)\n",
    "plt.ylabel(\"y\")\n",
    "plt.xlabel(\"X\")\n",
    "plt.title(\"Data Train\")\n",
    "plt.show()"
   ]
  },
  {
   "cell_type": "code",
   "execution_count": 12,
   "metadata": {},
   "outputs": [
    {
     "data": {
      "image/png": "[encoded data removed]",
      "text/plain": [
       "<Figure size 432x288 with 1 Axes>"
      ]
     },
     "metadata": {
      "needs_background": "light"
     },
     "output_type": "display_data"
    }
   ],
   "source": [
    "# Generate the Graphic for Data train.\n",
    "# Get the values for all componentes of X_e.\n",
    "new_xp =  [x[0] for x in X_p]\n",
    "# Plot the prediction.\n",
    "plt.plot(new_xp, predict_xp)\n",
    "# Scatter the Data train.\n",
    "plt.scatter(new_xp, y_p)\n",
    "plt.ylabel(\"y\")\n",
    "plt.xlabel(\"X\")\n",
    "plt.title(\"Data Test\")\n",
    "plt.show()"
   ]
  },
  {
   "cell_type": "code",
   "execution_count": 13,
   "metadata": {},
   "outputs": [
    {
     "name": "stdout",
     "output_type": "stream",
     "text": [
      "Data Train Prediction\n",
      "X: 11 | y: 21 | prediction: 13.846610458184294\n",
      "X: 42 | y: 40 | prediction: 41.997155510134554\n",
      "X: 42 | y: 44 | prediction: 41.997155510134554\n",
      "X: 36 | y: 38 | prediction: 36.548662919434506\n",
      "X: 31 | y: 40 | prediction: 32.008252427184466\n",
      "X: 50 | y: 51 | prediction: 49.26181229773463\n",
      "X: 45 | y: 46 | prediction: 44.72140180548458\n",
      "X: 40 | y: 39 | prediction: 40.18099131323454\n",
      "X: 36 | y: 37 | prediction: 36.548662919434506\n",
      "X: 30 | y: 35 | prediction: 31.100170328734457\n",
      "X: 33 | y: 32 | prediction: 33.824416624084485\n",
      "X: 46 | y: 46 | prediction: 45.62948390393459\n",
      "X: 27 | y: 28 | prediction: 28.375924033384432\n",
      "X: 34 | y: 34 | prediction: 34.732498722534494\n",
      "X: 44 | y: 44 | prediction: 43.81331970703457\n",
      "X: 39 | y: 45 | prediction: 39.272909214784534\n",
      "X: 7 | y: 11 | prediction: 10.21428206438426\n",
      "X: 33 | y: 34 | prediction: 33.824416624084485\n",
      "X: 29 | y: 27 | prediction: 30.19208823028445\n",
      "X: 18 | y: 16 | prediction: 20.203185147334356\n",
      "X: 37 | y: 36 | prediction: 37.456745017884515\n",
      "X: 39 | y: 36 | prediction: 39.272909214784534\n",
      "X: 38 | y: 38 | prediction: 38.364827116334524\n",
      "X: 31 | y: 30 | prediction: 32.008252427184466\n",
      "X: 30 | y: 25 | prediction: 31.100170328734457\n",
      "X: 47 | y: 49 | prediction: 46.5375660023846\n",
      "X: 43 | y: 37 | prediction: 42.905237608584564\n",
      "X: 15 | y: 16 | prediction: 17.478938851984328\n",
      "X: 3 | y: 5 | prediction: 6.581953670584227\n"
     ]
    }
   ],
   "source": [
    "print(\"Data Train Prediction\")\n",
    "for i in range(len(predict_xe)):\n",
    "    print('X:', new_xe[i], '| y:', y_e[i], '| prediction:', predict_xe[i])"
   ]
  },
  {
   "cell_type": "code",
   "execution_count": 14,
   "metadata": {},
   "outputs": [
    {
     "name": "stdout",
     "output_type": "stream",
     "text": [
      "Data Test Prediction\n",
      "X: 32 | y: 32 | prediction: 32.916334525634475\n",
      "X: 39 | y: 37 | prediction: 39.272909214784534\n",
      "X: 41 | y: 41 | prediction: 41.08907341168455\n",
      "X: 36 | y: 34 | prediction: 36.548662919434506\n"
     ]
    }
   ],
   "source": [
    "print(\"Data Test Prediction\")\n",
    "for i in range(len(predict_xp)):\n",
    "    print('X:', new_xp[i], '| y:', y_p[i], '| prediction:', predict_xp[i])"
   ]
  }
 ],
 "metadata": {
  "kernelspec": {
   "display_name": "Python 3 (ipykernel)",
   "language": "python",
   "name": "python3"
  },
  "language_info": {
   "codemirror_mode": {
    "name": "ipython",
    "version": 3
   },
   "file_extension": ".py",
   "mimetype": "text/x-python",
   "name": "python",
   "nbconvert_exporter": "python",
   "pygments_lexer": "ipython3",
   "version": "3.9.12"
  },
  "vscode": {
   "interpreter": {
    "hash": "cd1fd7730a3ff7811bc6623d31c907c7b97c986d3e82d3b9938e7dcbaa66e63f"
   }
  }
 },
 "nbformat": 4,
 "nbformat_minor": 2
}
