{
 "cells": [
  {
   "cell_type": "markdown",
   "id": "1e32c3bd",
   "metadata": {},
   "source": [
    "# Logistic Regression\n",
    "**Suárez Pérez Juan Pablo**"
   ]
  },
  {
   "cell_type": "code",
   "execution_count": 1,
   "id": "3052b6e0",
   "metadata": {},
   "outputs": [],
   "source": [
    "# Import the libraries needed\n",
    "import pandas as pd\n",
    "import matplotlib.pyplot as plt\n",
    "from sklearn.model_selection import train_test_split\n",
    "from sklearn.linear_model import LogisticRegression\n",
    "from sklearn.metrics import accuracy_score, confusion_matrix, ConfusionMatrixDisplay"
   ]
  },
  {
   "cell_type": "code",
   "execution_count": 2,
   "id": "0518f093",
   "metadata": {},
   "outputs": [],
   "source": [
    "# Read the file\n",
    "df = pd.read_csv('dataset.csv', sep = ',', engine = 'python')"
   ]
  },
  {
   "cell_type": "code",
   "execution_count": 3,
   "id": "eb8795cb",
   "metadata": {},
   "outputs": [],
   "source": [
    "# Pull apart X and y\n",
    "X = df.drop(['posee_auto'], axis = 1).values\n",
    "y = df['posee_auto'].values"
   ]
  },
  {
   "cell_type": "code",
   "execution_count": 4,
   "id": "7abf7e37",
   "metadata": {},
   "outputs": [],
   "source": [
    "# Get Train Set and Test Set\n",
    "X_train, X_test, y_train, y_test = train_test_split(X, y, test_size = 0.2, random_state = 0)"
   ]
  },
  {
   "cell_type": "code",
   "execution_count": 5,
   "id": "cfcee1f5",
   "metadata": {},
   "outputs": [
    {
     "data": {
      "text/plain": [
       "LogisticRegression()"
      ]
     },
     "execution_count": 5,
     "metadata": {},
     "output_type": "execute_result"
    }
   ],
   "source": [
    "# Get the Logistic Regression Model\n",
    "clf = LogisticRegression()\n",
    "clf.fit(X_train, y_train)"
   ]
  },
  {
   "cell_type": "code",
   "execution_count": 6,
   "id": "867d7d45",
   "metadata": {},
   "outputs": [
    {
     "name": "stdout",
     "output_type": "stream",
     "text": [
      "\n",
      " Clase real [1 0 1 1]\n",
      "\n",
      " Clase predicha [1 1 1 1]\n"
     ]
    }
   ],
   "source": [
    "# Predict y from X test\n",
    "y_pred = clf.predict(X_test)\n",
    "print ('\\n Clase real', y_test)\n",
    "print ('\\n Clase predicha', y_pred)"
   ]
  },
  {
   "cell_type": "code",
   "execution_count": 7,
   "id": "b06f9737",
   "metadata": {},
   "outputs": [
    {
     "name": "stdout",
     "output_type": "stream",
     "text": [
      "Confusion Matrix\n",
      "[[0 1]\n",
      " [0 3]]\n",
      "\n",
      "Accuracy\n",
      "Percentage of instances correctly predicted 0.75\n",
      "Number of correctly predicted instances 3\n"
     ]
    }
   ],
   "source": [
    "# Get confusion matrix\n",
    "print('Confusion Matrix')\n",
    "print(confusion_matrix(y_test, y_pred))\n",
    "print('\\nAccuracy')\n",
    "print('Percentage of instances correctly predicted', accuracy_score(y_test, y_pred)) \n",
    "print('Number of correctly predicted instances', accuracy_score(y_test, y_pred, normalize = False)) "
   ]
  },
  {
   "cell_type": "code",
   "execution_count": 8,
   "id": "b7ccead2",
   "metadata": {},
   "outputs": [
    {
     "data": {
      "text/plain": [
       "<sklearn.metrics._plot.confusion_matrix.ConfusionMatrixDisplay at 0x2f14cabd5e0>"
      ]
     },
     "execution_count": 8,
     "metadata": {},
     "output_type": "execute_result"
    },
    {
     "data": {
      "image/png": "[encoded data removed]",
      "text/plain": [
       "<Figure size 432x288 with 2 Axes>"
      ]
     },
     "metadata": {
      "needs_background": "light"
     },
     "output_type": "display_data"
    }
   ],
   "source": [
    "cm = confusion_matrix(y_test, y_pred, labels = clf.classes_)\n",
    "disp = ConfusionMatrixDisplay(confusion_matrix = cm, display_labels = clf.classes_)\n",
    "disp.plot()"
   ]
  },
  {
   "cell_type": "code",
   "execution_count": 9,
   "id": "db1d76f6",
   "metadata": {},
   "outputs": [
    {
     "name": "stdout",
     "output_type": "stream",
     "text": [
      "Probability of belonging to a class\n",
      " [[0.37831195 0.62168805]\n",
      " [0.48386223 0.51613777]\n",
      " [0.37132833 0.62867167]\n",
      " [0.45787893 0.54212107]]\n"
     ]
    }
   ],
   "source": [
    "# Probability of belonging to a class\n",
    "y_pred_proba = clf.predict_proba(X_test) \n",
    "print ('Probability of belonging to a class\\n', y_pred_proba)\n",
    "plt.show()"
   ]
  }
 ],
 "metadata": {
  "kernelspec": {
   "display_name": "Python 3 (ipykernel)",
   "language": "python",
   "name": "python3"
  },
  "language_info": {
   "codemirror_mode": {
    "name": "ipython",
    "version": 3
   },
   "file_extension": ".py",
   "mimetype": "text/x-python",
   "name": "python",
   "nbconvert_exporter": "python",
   "pygments_lexer": "ipython3",
   "version": "3.9.12"
  }
 },
 "nbformat": 4,
 "nbformat_minor": 5
}
