{
 "cells": [
  {
   "cell_type": "markdown",
   "id": "c2dd613b",
   "metadata": {},
   "source": [
    "# Práctica 02-12-2022\n",
    "**Suárez Pérez Juan Pablo**"
   ]
  },
  {
   "cell_type": "code",
   "execution_count": 1,
   "id": "c94f75a3",
   "metadata": {},
   "outputs": [],
   "source": [
    "# Import the libraries needed\n",
    "import pandas as pd\n",
    "import matplotlib.pyplot as plt\n",
    "from sklearn.model_selection import train_test_split\n",
    "from sklearn.linear_model import LogisticRegression\n",
    "from sklearn.metrics import accuracy_score, confusion_matrix, ConfusionMatrixDisplay"
   ]
  },
  {
   "cell_type": "code",
   "execution_count": 2,
   "id": "6a4825d7",
   "metadata": {},
   "outputs": [],
   "source": [
    "# Read the file\n",
    "df = pd.read_csv('breast-cancer.csv', sep = ',', engine = 'python')"
   ]
  },
  {
   "cell_type": "code",
   "execution_count": 3,
   "id": "b820a7f7",
   "metadata": {},
   "outputs": [],
   "source": [
    "# Pull apart X and y\n",
    "X = df.drop(['diagnosis'], axis = 1).values\n",
    "y = df['diagnosis'].values"
   ]
  },
  {
   "cell_type": "code",
   "execution_count": 4,
   "id": "b280ca0c",
   "metadata": {},
   "outputs": [],
   "source": [
    "# Get Train Set and Test Set\n",
    "X_train, X_test, y_train, y_test = train_test_split(X, y, test_size = 0.1, random_state = 0)"
   ]
  },
  {
   "cell_type": "code",
   "execution_count": 5,
   "id": "55ba93e9",
   "metadata": {},
   "outputs": [
    {
     "data": {
      "text/plain": [
       "LogisticRegression()"
      ]
     },
     "execution_count": 5,
     "metadata": {},
     "output_type": "execute_result"
    }
   ],
   "source": [
    "# Get the Logistic Regression Model\n",
    "clf = LogisticRegression()\n",
    "clf.fit(X_train, y_train)"
   ]
  },
  {
   "cell_type": "code",
   "execution_count": 6,
   "id": "d4c94e3b",
   "metadata": {},
   "outputs": [
    {
     "name": "stdout",
     "output_type": "stream",
     "text": [
      "Clase real ['M' 'B' 'B' 'B' 'B' 'B' 'B' 'B' 'B' 'B' 'B' 'B' 'B' 'B' 'B' 'M' 'B' 'M'\n",
      " 'M' 'M' 'M' 'M' 'B' 'B' 'M' 'B' 'B' 'M' 'B' 'M' 'B' 'M' 'B' 'M' 'B' 'M'\n",
      " 'B' 'M' 'B' 'M' 'M' 'B' 'M' 'B' 'B' 'M' 'B' 'B' 'B' 'M' 'M' 'M' 'M' 'B'\n",
      " 'B' 'B' 'B']\n",
      "\n",
      "Clase predicha ['B' 'B' 'B' 'B' 'B' 'B' 'B' 'B' 'B' 'B' 'B' 'B' 'B' 'B' 'B' 'B' 'B' 'B'\n",
      " 'B' 'B' 'B' 'B' 'B' 'B' 'B' 'B' 'B' 'B' 'B' 'B' 'B' 'B' 'B' 'B' 'B' 'B'\n",
      " 'B' 'B' 'B' 'B' 'B' 'B' 'B' 'B' 'B' 'B' 'B' 'B' 'B' 'B' 'B' 'B' 'B' 'B'\n",
      " 'B' 'B' 'B']\n"
     ]
    }
   ],
   "source": [
    "# Predict y from X test\n",
    "y_pred = clf.predict(X_test)\n",
    "print ('Clase real', y_test)\n",
    "print ('\\nClase predicha', y_pred)"
   ]
  },
  {
   "cell_type": "code",
   "execution_count": 7,
   "id": "d2cc2a59",
   "metadata": {},
   "outputs": [
    {
     "name": "stdout",
     "output_type": "stream",
     "text": [
      "Confusion Matrix\n",
      "[[35  0]\n",
      " [22  0]]\n",
      "\n",
      "Accuracy\n",
      "Percentage of instances correctly predicted 0.6140350877192983\n",
      "Number of correctly predicted instances 35\n"
     ]
    }
   ],
   "source": [
    "# Get confusion matrix\n",
    "print('Confusion Matrix')\n",
    "print(confusion_matrix(y_test, y_pred))\n",
    "print('\\nAccuracy')\n",
    "print('Percentage of instances correctly predicted', accuracy_score(y_test, y_pred)) \n",
    "print('Number of correctly predicted instances', accuracy_score(y_test, y_pred, normalize = False)) "
   ]
  },
  {
   "cell_type": "code",
   "execution_count": 8,
   "id": "035485e6",
   "metadata": {},
   "outputs": [
    {
     "data": {
      "text/plain": [
       "<sklearn.metrics._plot.confusion_matrix.ConfusionMatrixDisplay at 0x23352bb6430>"
      ]
     },
     "execution_count": 8,
     "metadata": {},
     "output_type": "execute_result"
    },
    {
     "data": {
      "image/png": "[encoded data removed]",
      "text/plain": [
       "<Figure size 432x288 with 2 Axes>"
      ]
     },
     "metadata": {
      "needs_background": "light"
     },
     "output_type": "display_data"
    }
   ],
   "source": [
    "cm = confusion_matrix(y_test, y_pred, labels = clf.classes_)\n",
    "disp = ConfusionMatrixDisplay(confusion_matrix = cm, display_labels = clf.classes_)\n",
    "disp.plot()"
   ]
  },
  {
   "cell_type": "code",
   "execution_count": 9,
   "id": "39e83838",
   "metadata": {},
   "outputs": [
    {
     "name": "stdout",
     "output_type": "stream",
     "text": [
      "Probability of belonging to a class\n",
      " [[0.50005645 0.49994355]\n",
      " [0.50056171 0.49943829]\n",
      " [0.50005606 0.49994394]\n",
      " [0.500055   0.499945  ]\n",
      " [0.5000527  0.4999473 ]\n",
      " [0.50005648 0.49994352]\n",
      " [0.50000556 0.49999444]\n",
      " [0.5000551  0.4999449 ]\n",
      " [0.50005678 0.49994322]\n",
      " [0.5000554  0.4999446 ]\n",
      " [0.50005588 0.49994412]\n",
      " [0.50005311 0.49994689]\n",
      " [0.50005582 0.49994418]\n",
      " [0.50053698 0.49946302]\n",
      " [0.50005311 0.49994689]\n",
      " [0.50000537 0.49999463]\n",
      " [0.50005513 0.49994487]\n",
      " [0.50543705 0.49456295]\n",
      " [0.50000557 0.49999443]\n",
      " [0.50005455 0.49994545]\n",
      " [0.50005262 0.49994738]\n",
      " [0.50054938 0.49945062]\n",
      " [0.50005625 0.49994375]\n",
      " [0.5005431  0.4994569 ]\n",
      " [0.50055557 0.49944443]\n",
      " [0.50005576 0.49994424]\n",
      " [0.5000537  0.4999463 ]\n",
      " [0.50521894 0.49478106]\n",
      " [0.50055546 0.49944454]\n",
      " [0.50005533 0.49994467]\n",
      " [0.50005385 0.49994615]\n",
      " [0.50005194 0.49994806]\n",
      " [0.50056178 0.49943822]\n",
      " [0.5053461  0.4946539 ]\n",
      " [0.50005357 0.49994643]\n",
      " [0.50529629 0.49470371]\n",
      " [0.50054327 0.49945673]\n",
      " [0.5000534  0.4999466 ]\n",
      " [0.500056   0.499944  ]\n",
      " [0.5005554  0.4994446 ]\n",
      " [0.50005583 0.49994417]\n",
      " [0.50055542 0.49944458]\n",
      " [0.50005213 0.49994787]\n",
      " [0.50005687 0.49994313]\n",
      " [0.50056176 0.49943824]\n",
      " [0.50005711 0.49994289]\n",
      " [0.50005376 0.49994624]\n",
      " [0.50543973 0.49456027]\n",
      " [0.50005392 0.49994608]\n",
      " [0.50522705 0.49477295]\n",
      " [0.50005216 0.49994784]\n",
      " [0.505397   0.494603  ]\n",
      " [0.50005349 0.49994651]\n",
      " [0.55594112 0.44405888]\n",
      " [0.50005502 0.49994498]\n",
      " [0.5000554  0.4999446 ]\n",
      " [0.50543663 0.49456337]]\n"
     ]
    }
   ],
   "source": [
    "# Probability of belonging to a class\n",
    "y_pred_proba = clf.predict_proba(X_test) \n",
    "print ('Probability of belonging to a class\\n', y_pred_proba)\n",
    "plt.show()"
   ]
  }
 ],
 "metadata": {
  "kernelspec": {
   "display_name": "Python 3 (ipykernel)",
   "language": "python",
   "name": "python3"
  },
  "language_info": {
   "codemirror_mode": {
    "name": "ipython",
    "version": 3
   },
   "file_extension": ".py",
   "mimetype": "text/x-python",
   "name": "python",
   "nbconvert_exporter": "python",
   "pygments_lexer": "ipython3",
   "version": "3.9.12"
  }
 },
 "nbformat": 4,
 "nbformat_minor": 5
}
