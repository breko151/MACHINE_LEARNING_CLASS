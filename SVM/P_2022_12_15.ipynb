{
 "cells": [
  {
   "cell_type": "markdown",
   "id": "6c94f767",
   "metadata": {},
   "source": [
    "# Práctica 15-12-2022\n",
    "**Suárez Pérez Juan Pablo**"
   ]
  },
  {
   "cell_type": "code",
   "execution_count": 1,
   "id": "e6d339cd",
   "metadata": {},
   "outputs": [],
   "source": [
    "# Import the libraries needed\n",
    "import pandas as pd\n",
    "from sklearn.model_selection import train_test_split, KFold\n",
    "from sklearn.metrics import accuracy_score, classification_report, confusion_matrix, ConfusionMatrixDisplay \n",
    "from tabulate import tabulate\n",
    "import numpy as np\n",
    "import matplotlib.pyplot as plt"
   ]
  },
  {
   "cell_type": "code",
   "execution_count": 2,
   "id": "14d28a0d",
   "metadata": {},
   "outputs": [],
   "source": [
    "# The model to predict with SVM\n",
    "class SVM:\n",
    "    \n",
    "    # Global Attributes\n",
    "    c_negative = list()\n",
    "    c_positive = list()\n",
    "    c = list()\n",
    "    c_norm = 0\n",
    "        \n",
    "    # Method to fit the model\n",
    "    def fit(self, X_train, y_train):\n",
    "        # List of positives and negatives instance\n",
    "        positives = list()\n",
    "        negatives = list()\n",
    "        for i in range(len(y_train)):\n",
    "            if y_train[i] == 1:\n",
    "                positives.append(X_train[i])\n",
    "            else:\n",
    "                negatives.append(X_train[i])\n",
    "        positives = np.array(positives)\n",
    "        negatives = np.array(negatives)\n",
    "        # Create the vector c positive an negative\n",
    "        self.c_positive = np.mean(positives, 0)\n",
    "        self.c_negative = np.mean(negatives, 0)\n",
    "        self.c_positive = np.array(self.c_positive)\n",
    "        self.c_negative = np.array(self.c_negative)\n",
    "        # Create the vector c and his norm\n",
    "        self.c = np.array(self.c_positive + self.c_negative) / 2\n",
    "        self.c_norm = np.linalg.norm(self.c)\n",
    "    \n",
    "    # Method to predict new instances\n",
    "    def predict(self, X_test):\n",
    "        y_predict = list()\n",
    "        for x in X_test:\n",
    "            proyection = np.dot(x, self.c) / self.c_norm\n",
    "            if proyection > self.c_norm:\n",
    "                y_predict.append(1)\n",
    "            else:\n",
    "                y_predict.append(0)\n",
    "        return y_predict"
   ]
  },
  {
   "cell_type": "code",
   "execution_count": 3,
   "id": "0aa2a2b8",
   "metadata": {},
   "outputs": [],
   "source": [
    "# Get data\n",
    "df = pd.read_csv('./heart.csv', sep = ',', engine = 'python')\n",
    "X = df.drop(['target'], axis = 1).values\n",
    "y = df['target'].values"
   ]
  },
  {
   "cell_type": "code",
   "execution_count": 4,
   "id": "c5a3a12f",
   "metadata": {},
   "outputs": [],
   "source": [
    "# Generate Data Test and Data Train\n",
    "X_train, X_test, y_train, y_test = train_test_split(X, y, test_size = 0.3, random_state = 0)"
   ]
  },
  {
   "cell_type": "code",
   "execution_count": 5,
   "id": "a5bba50d",
   "metadata": {},
   "outputs": [],
   "source": [
    "# Create the model and fit the model with the train set\n",
    "svm = SVM()\n",
    "svm.fit(X_train, y_train)"
   ]
  },
  {
   "cell_type": "code",
   "execution_count": 6,
   "id": "bb06e9ff",
   "metadata": {},
   "outputs": [
    {
     "name": "stdout",
     "output_type": "stream",
     "text": [
      "C Positive:\n",
      "[5.32542373e+01 5.00000000e-01 1.36440678e+00 1.28991525e+02\n",
      " 2.45398305e+02 1.27118644e-01 5.67796610e-01 1.58203390e+02\n",
      " 1.52542373e-01 5.94915254e-01 1.60169492e+00 3.13559322e-01\n",
      " 2.10169492e+00]\n"
     ]
    }
   ],
   "source": [
    "print('C Positive:')\n",
    "print(svm.c_positive)"
   ]
  },
  {
   "cell_type": "code",
   "execution_count": 7,
   "id": "34013a32",
   "metadata": {},
   "outputs": [
    {
     "name": "stdout",
     "output_type": "stream",
     "text": [
      "C Negative:\n",
      "[5.61063830e+01 8.29787234e-01 4.68085106e-01 1.34468085e+02\n",
      " 2.50989362e+02 2.02127660e-01 5.21276596e-01 1.39085106e+02\n",
      " 5.85106383e-01 1.70638298e+00 1.18085106e+00 1.19148936e+00\n",
      " 2.48936170e+00]\n"
     ]
    }
   ],
   "source": [
    "print('C Negative:')\n",
    "print(svm.c_negative)"
   ]
  },
  {
   "cell_type": "code",
   "execution_count": 8,
   "id": "786db4af",
   "metadata": {},
   "outputs": [
    {
     "name": "stdout",
     "output_type": "stream",
     "text": [
      "C:\n",
      "[5.46803101e+01 6.64893617e-01 9.16245943e-01 1.31729805e+02\n",
      " 2.48193833e+02 1.64623152e-01 5.44536603e-01 1.48644248e+02\n",
      " 3.68824378e-01 1.15064912e+00 1.39127299e+00 7.52524342e-01\n",
      " 2.29552831e+00]\n"
     ]
    }
   ],
   "source": [
    "print('C:')\n",
    "print(svm.c)"
   ]
  },
  {
   "cell_type": "code",
   "execution_count": 9,
   "id": "08e70b5a",
   "metadata": {},
   "outputs": [
    {
     "name": "stdout",
     "output_type": "stream",
     "text": [
      "C Norm:\n",
      "322.565971485979\n"
     ]
    }
   ],
   "source": [
    "print('C Norm:')\n",
    "print(svm.c_norm)"
   ]
  },
  {
   "cell_type": "code",
   "execution_count": 10,
   "id": "69cbffe4",
   "metadata": {},
   "outputs": [],
   "source": [
    "# Predict the instance of test set\n",
    "y_predict = svm.predict(X_test)"
   ]
  },
  {
   "cell_type": "code",
   "execution_count": 11,
   "id": "eebfadd9",
   "metadata": {},
   "outputs": [
    {
     "name": "stdout",
     "output_type": "stream",
     "text": [
      "|   Y Test |   Y Predict |\n",
      "|----------|-------------|\n",
      "|        0 |           0 |\n",
      "|        1 |           1 |\n",
      "|        0 |           1 |\n",
      "|        0 |           1 |\n",
      "|        1 |           0 |\n",
      "|        0 |           1 |\n",
      "|        0 |           0 |\n",
      "|        0 |           1 |\n",
      "|        0 |           1 |\n",
      "|        0 |           1 |\n",
      "|        1 |           0 |\n",
      "|        1 |           1 |\n",
      "|        0 |           0 |\n",
      "|        1 |           1 |\n",
      "|        1 |           0 |\n",
      "|        1 |           0 |\n",
      "|        1 |           0 |\n",
      "|        1 |           1 |\n",
      "|        0 |           0 |\n",
      "|        1 |           1 |\n",
      "|        1 |           0 |\n",
      "|        0 |           0 |\n",
      "|        0 |           1 |\n",
      "|        0 |           0 |\n",
      "|        1 |           0 |\n",
      "|        0 |           0 |\n",
      "|        0 |           0 |\n",
      "|        0 |           0 |\n",
      "|        1 |           0 |\n",
      "|        1 |           0 |\n",
      "|        0 |           0 |\n",
      "|        0 |           1 |\n",
      "|        1 |           1 |\n",
      "|        1 |           0 |\n",
      "|        1 |           0 |\n",
      "|        0 |           1 |\n",
      "|        0 |           1 |\n",
      "|        1 |           1 |\n",
      "|        0 |           0 |\n",
      "|        0 |           1 |\n",
      "|        1 |           0 |\n",
      "|        1 |           1 |\n",
      "|        1 |           0 |\n",
      "|        0 |           0 |\n",
      "|        1 |           0 |\n",
      "|        1 |           1 |\n",
      "|        1 |           0 |\n",
      "|        0 |           0 |\n",
      "|        0 |           1 |\n",
      "|        1 |           1 |\n",
      "|        1 |           1 |\n",
      "|        1 |           1 |\n",
      "|        1 |           1 |\n",
      "|        1 |           0 |\n",
      "|        1 |           0 |\n",
      "|        0 |           0 |\n",
      "|        1 |           0 |\n",
      "|        0 |           1 |\n",
      "|        1 |           0 |\n",
      "|        1 |           0 |\n",
      "|        1 |           0 |\n",
      "|        1 |           0 |\n",
      "|        1 |           1 |\n",
      "|        1 |           0 |\n",
      "|        0 |           0 |\n",
      "|        0 |           1 |\n",
      "|        0 |           0 |\n",
      "|        0 |           1 |\n",
      "|        1 |           0 |\n",
      "|        1 |           1 |\n",
      "|        1 |           0 |\n",
      "|        1 |           1 |\n",
      "|        1 |           0 |\n",
      "|        0 |           1 |\n",
      "|        0 |           0 |\n",
      "|        1 |           0 |\n",
      "|        0 |           0 |\n",
      "|        0 |           0 |\n",
      "|        1 |           1 |\n",
      "|        1 |           1 |\n",
      "|        0 |           0 |\n",
      "|        0 |           0 |\n",
      "|        0 |           0 |\n",
      "|        1 |           0 |\n",
      "|        0 |           0 |\n",
      "|        0 |           1 |\n",
      "|        0 |           1 |\n",
      "|        0 |           0 |\n",
      "|        1 |           1 |\n",
      "|        0 |           0 |\n",
      "|        0 |           1 |\n"
     ]
    }
   ],
   "source": [
    "results = list()\n",
    "for i in range(len(y_test)):\n",
    "    results.append([y_test[i], y_predict[i]])\n",
    "print(tabulate(results, headers = ['Y Test', 'Y Predict'], tablefmt = 'github'))"
   ]
  },
  {
   "cell_type": "code",
   "execution_count": 12,
   "id": "81528006",
   "metadata": {},
   "outputs": [
    {
     "name": "stdout",
     "output_type": "stream",
     "text": [
      "              precision    recall  f1-score   support\n",
      "\n",
      "           0       0.47      0.57      0.52        44\n",
      "           1       0.50      0.40      0.45        47\n",
      "\n",
      "    accuracy                           0.48        91\n",
      "   macro avg       0.49      0.49      0.48        91\n",
      "weighted avg       0.49      0.48      0.48        91\n",
      "\n",
      "[[19 28]\n",
      " [19 25]]\n"
     ]
    },
    {
     "data": {
      "image/png": "[encoded data removed]",
      "text/plain": [
       "<Figure size 432x288 with 2 Axes>"
      ]
     },
     "metadata": {
      "needs_background": "light"
     },
     "output_type": "display_data"
    }
   ],
   "source": [
    "# Report of the model\n",
    "target_names = list(map(str, [0, 1]))\n",
    "print(classification_report(y_test, y_predict, target_names=target_names))\n",
    "cm = confusion_matrix(y_test, y_predict, labels=[1, 0])\n",
    "print(cm)\n",
    "disp = ConfusionMatrixDisplay(confusion_matrix=cm, display_labels=target_names)\n",
    "disp.plot()\n",
    "plt.show()"
   ]
  }
 ],
 "metadata": {
  "kernelspec": {
   "display_name": "Python 3 (ipykernel)",
   "language": "python",
   "name": "python3"
  },
  "language_info": {
   "codemirror_mode": {
    "name": "ipython",
    "version": 3
   },
   "file_extension": ".py",
   "mimetype": "text/x-python",
   "name": "python",
   "nbconvert_exporter": "python",
   "pygments_lexer": "ipython3",
   "version": "3.9.12"
  }
 },
 "nbformat": 4,
 "nbformat_minor": 5
}
